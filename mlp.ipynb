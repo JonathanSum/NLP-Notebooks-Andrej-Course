{
  "cells": [
    {
      "cell_type": "code",
      "execution_count": 1,
      "metadata": {
        "id": "o-07kYYjD6YA"
      },
      "outputs": [],
      "source": [
        "import torch\n",
        "import torch.nn.functional as F\n",
        "import matplotlib.pyplot as plt\n",
        "%matplotlib inline"
      ]
    },
    {
      "cell_type": "code",
      "execution_count": 2,
      "metadata": {
        "colab": {
          "base_uri": "https://localhost:8080/"
        },
        "id": "wf-gYT9dD6YC",
        "outputId": "58d3630a-10d0-4772-e030-da30caf44849"
      },
      "outputs": [
        {
          "data": {
            "text/plain": [
              "['emma', 'olivia', 'ava', 'isabella', 'sophia', 'charlotte', 'mia', 'amelia']"
            ]
          },
          "execution_count": 2,
          "metadata": {},
          "output_type": "execute_result"
        }
      ],
      "source": [
        "words = open(\"names.txt\", \"r\").read().splitlines()\n",
        "words[:8]"
      ]
    },
    {
      "cell_type": "code",
      "execution_count": 3,
      "metadata": {
        "colab": {
          "base_uri": "https://localhost:8080/"
        },
        "id": "3P7uYCeCD6YC",
        "outputId": "324e87af-c31a-484f-d8fa-70be8cc0c1b1"
      },
      "outputs": [
        {
          "data": {
            "text/plain": [
              "32033"
            ]
          },
          "execution_count": 3,
          "metadata": {},
          "output_type": "execute_result"
        }
      ],
      "source": [
        "len(words)"
      ]
    },
    {
      "cell_type": "code",
      "execution_count": 4,
      "metadata": {
        "colab": {
          "base_uri": "https://localhost:8080/"
        },
        "id": "gg1LgizaD6YD",
        "outputId": "98a26696-d179-4ea1-83aa-0927f98be6be"
      },
      "outputs": [
        {
          "name": "stdout",
          "output_type": "stream",
          "text": [
            "{1: 'a', 2: 'b', 3: 'c', 4: 'd', 5: 'e', 6: 'f', 7: 'g', 8: 'h', 9: 'i', 10: 'j', 11: 'k', 12: 'l', 13: 'm', 14: 'n', 15: 'o', 16: 'p', 17: 'q', 18: 'r', 19: 's', 20: 't', 21: 'u', 22: 'v', 23: 'w', 24: 'x', 25: 'y', 26: 'z', 0: '.'}\n"
          ]
        }
      ],
      "source": [
        "chars = sorted(list(set(''.join(words))))\n",
        "stoi = {s:i+1 for i, s in enumerate(chars)}\n",
        "stoi['.'] = 0\n",
        "itos = {i:s for s, i in stoi.items()}\n",
        "print(itos)"
      ]
    },
    {
      "cell_type": "code",
      "execution_count": 5,
      "metadata": {
        "colab": {
          "base_uri": "https://localhost:8080/"
        },
        "id": "dKemBh37D6YD",
        "outputId": "eec381d3-e2da-4f6f-a7fd-d346f5537d64"
      },
      "outputs": [
        {
          "data": {
            "text/plain": [
              "['emma', 'olivia', 'ava', 'isabella', 'sophia']"
            ]
          },
          "execution_count": 5,
          "metadata": {},
          "output_type": "execute_result"
        }
      ],
      "source": [
        "words[:5]"
      ]
    },
    {
      "cell_type": "code",
      "execution_count": null,
      "metadata": {
        "colab": {
          "base_uri": "https://localhost:8080/"
        },
        "id": "jBSDrW-PD6YD",
        "outputId": "6fcede4a-7215-46b4-fd0c-e221e0b5da7f"
      },
      "outputs": [],
      "source": [
        "block_size = 3\n",
        "X, Y = [], []\n",
        "for w in words:\n",
        "    print(w)\n",
        "    context = [0] * block_size\n",
        "    for ch in w +'.':\n",
        "        ix = stoi[ch]\n",
        "        X.append(context)\n",
        "        Y.append(ix)\n",
        "        # print(''.join(itos[i] for i in context), '--->', itos[ix])\n",
        "        context = context[1:] + [ix]\n",
        "X = torch.tensor(X)   \n",
        "Y = torch.tensor(Y)   "
      ]
    },
    {
      "cell_type": "code",
      "execution_count": 7,
      "metadata": {
        "colab": {
          "base_uri": "https://localhost:8080/"
        },
        "id": "f8c-n_5ED6YD",
        "outputId": "e6db3ab5-acd6-47f5-9380-6afa19f2ebc8"
      },
      "outputs": [
        {
          "data": {
            "text/plain": [
              "(torch.Size([228146, 3]), torch.int64, torch.Size([228146]), torch.int64)"
            ]
          },
          "execution_count": 7,
          "metadata": {},
          "output_type": "execute_result"
        }
      ],
      "source": [
        "X.shape, X.dtype, Y.shape, Y.dtype"
      ]
    },
    {
      "cell_type": "code",
      "execution_count": 8,
      "metadata": {
        "id": "D7aWBcqAD6YE"
      },
      "outputs": [],
      "source": [
        "C = torch.randn((27, 2))"
      ]
    },
    {
      "cell_type": "code",
      "execution_count": 9,
      "metadata": {
        "colab": {
          "base_uri": "https://localhost:8080/"
        },
        "id": "x1vIlzd9D6YE",
        "outputId": "0d978466-bd23-4520-cecc-3035d5dacd72"
      },
      "outputs": [
        {
          "data": {
            "text/plain": [
              "torch.Size([27, 2])"
            ]
          },
          "execution_count": 9,
          "metadata": {},
          "output_type": "execute_result"
        }
      ],
      "source": [
        "C.shape"
      ]
    },
    {
      "cell_type": "code",
      "execution_count": 10,
      "metadata": {
        "colab": {
          "base_uri": "https://localhost:8080/"
        },
        "id": "xo48KdCqD6YE",
        "outputId": "03070c72-3e2a-407b-d89c-e01470da4608"
      },
      "outputs": [
        {
          "data": {
            "text/plain": [
              "tensor([ 1.8754, -0.8751])"
            ]
          },
          "execution_count": 10,
          "metadata": {},
          "output_type": "execute_result"
        }
      ],
      "source": [
        "C[5]"
      ]
    },
    {
      "cell_type": "code",
      "execution_count": 11,
      "metadata": {
        "colab": {
          "base_uri": "https://localhost:8080/"
        },
        "id": "44FUzK7nD6YE",
        "outputId": "0cbcf71d-6462-41a9-a84e-d5aa4e6a6f5c"
      },
      "outputs": [
        {
          "data": {
            "text/plain": [
              "torch.Size([228146, 3])"
            ]
          },
          "execution_count": 11,
          "metadata": {},
          "output_type": "execute_result"
        }
      ],
      "source": [
        "X.shape"
      ]
    },
    {
      "cell_type": "code",
      "execution_count": 12,
      "metadata": {
        "colab": {
          "base_uri": "https://localhost:8080/"
        },
        "id": "5SK_2oKnD6YF",
        "outputId": "a7aec24a-699b-42eb-d7e3-08c8819e64e3"
      },
      "outputs": [
        {
          "data": {
            "text/plain": [
              "tensor([0, 0, 0])"
            ]
          },
          "execution_count": 12,
          "metadata": {},
          "output_type": "execute_result"
        }
      ],
      "source": [
        "X[0]"
      ]
    },
    {
      "cell_type": "code",
      "execution_count": 13,
      "metadata": {
        "colab": {
          "base_uri": "https://localhost:8080/"
        },
        "id": "GH7tWmTQD6YF",
        "outputId": "8d26dbc5-12a4-47bf-854f-ff78d24778d7"
      },
      "outputs": [
        {
          "data": {
            "text/plain": [
              "tensor([[-0.7771, -1.2528],\n",
              "        [-0.7771, -1.2528],\n",
              "        [-0.7771, -1.2528]])"
            ]
          },
          "execution_count": 13,
          "metadata": {},
          "output_type": "execute_result"
        }
      ],
      "source": [
        "C[X[0]]"
      ]
    },
    {
      "cell_type": "code",
      "execution_count": 14,
      "metadata": {
        "colab": {
          "base_uri": "https://localhost:8080/"
        },
        "id": "z-CupljuD6YF",
        "outputId": "f189d1f8-3164-440e-ef5c-27f01ca2979b"
      },
      "outputs": [
        {
          "data": {
            "text/plain": [
              "torch.Size([228146, 3, 2])"
            ]
          },
          "execution_count": 14,
          "metadata": {},
          "output_type": "execute_result"
        }
      ],
      "source": [
        "C[X].shape"
      ]
    },
    {
      "cell_type": "code",
      "execution_count": 15,
      "metadata": {
        "colab": {
          "base_uri": "https://localhost:8080/"
        },
        "id": "dlVCIlfFD6YF",
        "outputId": "e2e65367-2478-4182-a610-88535ae17aff"
      },
      "outputs": [
        {
          "data": {
            "text/plain": [
              "tensor([[ 1.8754, -0.8751],\n",
              "        [-1.1993,  0.1478],\n",
              "        [-0.7112,  0.9749],\n",
              "        [-0.7112,  0.9749],\n",
              "        [-0.7112,  0.9749],\n",
              "        [-0.7112,  0.9749],\n",
              "        [-0.7112,  0.9749]])"
            ]
          },
          "execution_count": 15,
          "metadata": {},
          "output_type": "execute_result"
        }
      ],
      "source": [
        "C[torch.tensor([5, 6, 7, 7, 7, 7, 7])]"
      ]
    },
    {
      "cell_type": "code",
      "execution_count": 16,
      "metadata": {
        "colab": {
          "base_uri": "https://localhost:8080/"
        },
        "id": "C7rguqbiD6YF",
        "outputId": "0c814965-7b79-47c2-d7a6-e52eb1d8e8d1"
      },
      "outputs": [
        {
          "data": {
            "text/plain": [
              "torch.Size([228146, 3])"
            ]
          },
          "execution_count": 16,
          "metadata": {},
          "output_type": "execute_result"
        }
      ],
      "source": [
        "X.shape"
      ]
    },
    {
      "cell_type": "code",
      "execution_count": 17,
      "metadata": {
        "id": "yx954KsED6YG"
      },
      "outputs": [],
      "source": [
        "C = torch.randn((27, 2))"
      ]
    },
    {
      "cell_type": "code",
      "execution_count": 18,
      "metadata": {
        "colab": {
          "base_uri": "https://localhost:8080/"
        },
        "id": "iDH6c700D6YG",
        "outputId": "db7c775f-986b-4605-bfb9-069df8f74d6e"
      },
      "outputs": [
        {
          "data": {
            "text/plain": [
              "torch.Size([228146, 3, 2])"
            ]
          },
          "execution_count": 18,
          "metadata": {},
          "output_type": "execute_result"
        }
      ],
      "source": [
        "emb = C[X]\n",
        "emb.shape"
      ]
    },
    {
      "cell_type": "code",
      "execution_count": 19,
      "metadata": {
        "id": "Z7jeJZIqD6YG"
      },
      "outputs": [],
      "source": [
        "W1 = torch.randn((6, 100))\n",
        "b1 = torch.randn(100)"
      ]
    },
    {
      "cell_type": "code",
      "execution_count": 20,
      "metadata": {
        "colab": {
          "base_uri": "https://localhost:8080/"
        },
        "id": "xYscQmnPD6YG",
        "outputId": "b2ea6659-527a-4f9e-8e1a-e71c417ded00"
      },
      "outputs": [
        {
          "data": {
            "text/plain": [
              "torch.Size([228146, 3, 2])"
            ]
          },
          "execution_count": 20,
          "metadata": {},
          "output_type": "execute_result"
        }
      ],
      "source": [
        "emb.shape"
      ]
    },
    {
      "cell_type": "code",
      "execution_count": 21,
      "metadata": {
        "colab": {
          "base_uri": "https://localhost:8080/"
        },
        "id": "j8GYJmePD6YG",
        "outputId": "f4156baa-ae3c-4c6d-ce05-d98b80022456"
      },
      "outputs": [
        {
          "data": {
            "text/plain": [
              "torch.Size([228146, 6])"
            ]
          },
          "execution_count": 21,
          "metadata": {},
          "output_type": "execute_result"
        }
      ],
      "source": [
        "torch.cat([emb[:,0,:], emb[:,1,:], emb[:,2,:]], 1).shape"
      ]
    },
    {
      "cell_type": "code",
      "execution_count": 22,
      "metadata": {
        "id": "7NnUaRyOD6YH"
      },
      "outputs": [],
      "source": [
        "W1 = torch.randn((6, 100)) \n",
        "b1 = torch.randn(100)"
      ]
    },
    {
      "cell_type": "code",
      "execution_count": 23,
      "metadata": {
        "id": "mFtPxHkND6YH"
      },
      "outputs": [],
      "source": [
        "h = torch.tanh(emb.view(-1, 6) @ W1 + b1)\n"
      ]
    },
    {
      "cell_type": "code",
      "execution_count": 24,
      "metadata": {
        "id": "VWE-WGFXD6YH"
      },
      "outputs": [],
      "source": [
        "W2 = torch.randn((100, 27))\n",
        "b2 = torch.randn(27)"
      ]
    },
    {
      "cell_type": "code",
      "execution_count": 25,
      "metadata": {
        "id": "nnwOMZOwD6YH"
      },
      "outputs": [],
      "source": [
        "logits = h @ W2 + b2"
      ]
    },
    {
      "cell_type": "code",
      "execution_count": 26,
      "metadata": {
        "colab": {
          "base_uri": "https://localhost:8080/"
        },
        "id": "c6lPMd8OD6YH",
        "outputId": "6017d7c3-f04e-43bb-b631-12e0465105cb"
      },
      "outputs": [
        {
          "data": {
            "text/plain": [
              "torch.Size([228146, 27])"
            ]
          },
          "execution_count": 26,
          "metadata": {},
          "output_type": "execute_result"
        }
      ],
      "source": [
        "logits.shape"
      ]
    },
    {
      "cell_type": "code",
      "execution_count": 27,
      "metadata": {
        "id": "uICmq4ZvD6YH"
      },
      "outputs": [],
      "source": [
        "counts = logits.exp()"
      ]
    },
    {
      "cell_type": "code",
      "execution_count": 28,
      "metadata": {
        "colab": {
          "base_uri": "https://localhost:8080/"
        },
        "id": "dJpV_hL7D6YI",
        "outputId": "3421a2ae-0d67-4c75-ebb8-8767b9031be2"
      },
      "outputs": [
        {
          "data": {
            "text/plain": [
              "torch.Size([228146, 27])"
            ]
          },
          "execution_count": 28,
          "metadata": {},
          "output_type": "execute_result"
        }
      ],
      "source": [
        "prob = counts / counts.sum(1, keepdims = True)\n",
        "prob.shape"
      ]
    },
    {
      "cell_type": "code",
      "execution_count": 29,
      "metadata": {
        "colab": {
          "base_uri": "https://localhost:8080/"
        },
        "id": "Mh7TYXILD6YI",
        "outputId": "a8f11e50-a627-4158-fc0d-0078f6a44c73"
      },
      "outputs": [
        {
          "data": {
            "text/plain": [
              "torch.Size([228146])"
            ]
          },
          "execution_count": 29,
          "metadata": {},
          "output_type": "execute_result"
        }
      ],
      "source": [
        "Y.shape"
      ]
    },
    {
      "cell_type": "code",
      "execution_count": 30,
      "metadata": {
        "colab": {
          "base_uri": "https://localhost:8080/"
        },
        "id": "4WE7ZQK0D6YI",
        "outputId": "47376bfe-f9cb-46f5-989b-269c306a98ca"
      },
      "outputs": [
        {
          "data": {
            "text/plain": [
              "torch.Size([228146, 27])"
            ]
          },
          "execution_count": 30,
          "metadata": {},
          "output_type": "execute_result"
        }
      ],
      "source": [
        "prob[Y].shape"
      ]
    },
    {
      "cell_type": "code",
      "execution_count": 31,
      "metadata": {
        "colab": {
          "base_uri": "https://localhost:8080/"
        },
        "id": "c4JZNnHFD6YI",
        "outputId": "8b0fb914-2e9a-4727-d250-257e103ff97e"
      },
      "outputs": [
        {
          "data": {
            "text/plain": [
              "tensor(16.7622)"
            ]
          },
          "execution_count": 31,
          "metadata": {},
          "output_type": "execute_result"
        }
      ],
      "source": [
        "em = C[X]\n",
        "h = torch.tanh(em.view(-1, 6)@W1 + b1) #(32, 100)\n",
        "logits = h@W2 +b2 #(32, 27\n",
        "counts = logits.exp()\n",
        "prob = counts / counts.sum(1, keepdims=True)\n",
        "loss = -prob[torch.arange(228146), Y].log().mean()\n",
        "loss"
      ]
    },
    {
      "cell_type": "code",
      "execution_count": 32,
      "metadata": {
        "colab": {
          "base_uri": "https://localhost:8080/"
        },
        "id": "ls71FLc4D6YI",
        "outputId": "8ee156ce-1c4c-4a1d-acef-027731d20178"
      },
      "outputs": [
        {
          "data": {
            "text/plain": [
              "torch.Size([228146, 27])"
            ]
          },
          "execution_count": 32,
          "metadata": {},
          "output_type": "execute_result"
        }
      ],
      "source": [
        "prob.shape"
      ]
    },
    {
      "cell_type": "code",
      "execution_count": 33,
      "metadata": {
        "colab": {
          "base_uri": "https://localhost:8080/"
        },
        "id": "Now0oDM-D6YJ",
        "outputId": "2c32cf07-e905-4eb2-9513-b4de74f6f881"
      },
      "outputs": [
        {
          "data": {
            "text/plain": [
              "tensor(6.9373e-09)"
            ]
          },
          "execution_count": 33,
          "metadata": {},
          "output_type": "execute_result"
        }
      ],
      "source": [
        "prob[0, Y[0]]"
      ]
    },
    {
      "cell_type": "code",
      "execution_count": 34,
      "metadata": {
        "colab": {
          "base_uri": "https://localhost:8080/"
        },
        "id": "mnYMvPfDD6YJ",
        "outputId": "4d942a01-d448-44a1-d786-13c3e199adf0"
      },
      "outputs": [
        {
          "data": {
            "text/plain": [
              "tensor(16.7622)"
            ]
          },
          "execution_count": 34,
          "metadata": {},
          "output_type": "execute_result"
        }
      ],
      "source": [
        "F.cross_entropy(logits, Y)"
      ]
    },
    {
      "cell_type": "code",
      "execution_count": 35,
      "metadata": {
        "id": "EN2cK4q6D6YJ"
      },
      "outputs": [],
      "source": [
        "g = torch.Generator().manual_seed(2147483647)\n",
        "C = torch.randn((27, 64), generator=g)\n",
        "W1 = torch.randn((3*64, 64), generator=g)\n",
        "b1 = torch.randn(64, generator=g)\n",
        "W2 = torch.randn((64, 27), generator=g)\n",
        "b2 = torch.randn(27, generator=g)\n",
        "parameters = [C, W1, b1, W2, b2]\n",
        "\n",
        "#This is a 3 layers model; I didn't use it because I am not sure I am allowed to use 3 layers here.\n",
        "# g = torch.Generator().manual_seed(2147483647)\n",
        "# C = torch.randn((27, 64), generator=g)\n",
        "# W1 = torch.randn((3*64, 128), generator=g)\n",
        "# b1 = torch.randn(128, generator=g)\n",
        "# W2 = torch.randn((128, 64), generator=g)\n",
        "# b2 = torch.randn(64, generator=g)\n",
        "# W3 = torch.randn((64, 27), generator=g)\n",
        "# b3 = torch.randn(27, generator=g)\n",
        "# parameters = [C, W1, b1, W2, b2]"
      ]
    },
    {
      "cell_type": "code",
      "execution_count": 36,
      "metadata": {
        "colab": {
          "base_uri": "https://localhost:8080/"
        },
        "id": "vhqBQq0_D6YJ",
        "outputId": "cf4e5f64-c34a-47fe-8f59-d2573030458a"
      },
      "outputs": [
        {
          "data": {
            "text/plain": [
              "15835"
            ]
          },
          "execution_count": 36,
          "metadata": {},
          "output_type": "execute_result"
        }
      ],
      "source": [
        "sum(p.nelement() for p in parameters)"
      ]
    },
    {
      "cell_type": "code",
      "execution_count": 37,
      "metadata": {
        "id": "M3l56Zd5D6YJ"
      },
      "outputs": [],
      "source": [
        "for p in parameters:\n",
        "    p.requires_grad = True"
      ]
    },
    {
      "cell_type": "code",
      "execution_count": 38,
      "metadata": {
        "id": "FvgtHvZtD6YK"
      },
      "outputs": [],
      "source": [
        "lre = torch.linspace(-3, 0, 1000)\n",
        "lrs = 10**lre\n",
        "# lrs"
      ]
    },
    {
      "cell_type": "code",
      "execution_count": 39,
      "metadata": {
        "colab": {
          "base_uri": "https://localhost:8080/"
        },
        "id": "AwgU0Fi3D6YK",
        "outputId": "bb745de3-4067-40e3-f6fb-443dc5085b90"
      },
      "outputs": [
        {
          "name": "stdout",
          "output_type": "stream",
          "text": [
            "torch.Size([182625, 3]) torch.Size([182625])\n",
            "torch.Size([22655, 3]) torch.Size([22655])\n",
            "torch.Size([22866, 3]) torch.Size([22866])\n"
          ]
        }
      ],
      "source": [
        "def build_dataset(words):\n",
        "    block_size = 3\n",
        "    X, Y = [], []\n",
        "    for w in words:\n",
        "\n",
        "        #print(w)\n",
        "        context = [0] * block_size\n",
        "        for ch in w + '.':\n",
        "            ix = stoi[ch]\n",
        "            X.append(context)\n",
        "            Y.append(ix)\n",
        "            context = context[1:] +[ix]\n",
        "\n",
        "    X = torch.tensor(X)\n",
        "    Y = torch.tensor(Y)\n",
        "    print(X.shape, Y.shape)\n",
        "    return X, Y\n",
        "\n",
        "import random\n",
        "random.seed(42)\n",
        "random.shuffle(words) \n",
        "n1 = int(0.8 * len(words))\n",
        "n2 = int(0.9 * len(words))\n",
        "\n",
        "Xtr, Ytr = build_dataset(words[:n1])\n",
        "Xdev, Ydev = build_dataset(words[n1:n2])\n",
        "Xtest, Ytest = build_dataset(words[n2:])"
      ]
    },
    {
      "cell_type": "code",
      "execution_count": 40,
      "metadata": {
        "colab": {
          "base_uri": "https://localhost:8080/"
        },
        "id": "3tcYRhHGD6YK",
        "outputId": "4fe6754b-0e92-470b-f2a7-456ef36cd380"
      },
      "outputs": [
        {
          "data": {
            "text/plain": [
              "0.7943282347242815"
            ]
          },
          "execution_count": 40,
          "metadata": {},
          "output_type": "execute_result"
        }
      ],
      "source": [
        "10**-0.1"
      ]
    },
    {
      "cell_type": "markdown",
      "metadata": {
        "id": "Hl5AFdXnD6YK"
      },
      "source": []
    },
    {
      "cell_type": "code",
      "execution_count": 41,
      "metadata": {
        "colab": {
          "base_uri": "https://localhost:8080/"
        },
        "id": "yQQW4ytDD6YM",
        "outputId": "3dbc8504-1cb3-497f-b97f-b23c25e98c25"
      },
      "outputs": [
        {
          "name": "stdout",
          "output_type": "stream",
          "text": [
            "2.05654239654541 2.2784230709075928\n"
          ]
        }
      ],
      "source": [
        "#becareful that in production does not run the randint to get the training index for performance reason.\n",
        "lri = []\n",
        "lossi = []\n",
        "lossi_dev = []\n",
        "stepi = []\n",
        "for i in range(200000):\n",
        "    # minibatch construct\n",
        "    ix = torch.randint(0, Xtr.shape[0], (32,))\n",
        "    # forward pass\n",
        "\n",
        "    emb = C[Xtr[ix]] \n",
        "    h = torch.tanh(emb.view(-1, 3*64) @ W1 + b1) \n",
        "    logits = h @ W2 + b2\n",
        "    loss = F.cross_entropy(logits, Ytr[ix])\n",
        "    \n",
        "\n",
        "\n",
        "\n",
        "    # backward pass\n",
        "    for p in parameters:\n",
        "        p.grad = None\n",
        "    loss.backward()\n",
        "    # update\n",
        "    # lr = lrs[i]\n",
        "    lr = 10**-1\n",
        "    if(i>=150000): lr = 10**-2\n",
        "    for p in parameters:\n",
        "        p.data += -lr * p.grad\n",
        "\n",
        "    # lri.append(lre[i])\n",
        "    stepi.append(i)\n",
        "    lossi.append(loss.item())\n",
        "\n",
        "    # dev forward part\n",
        "    with torch.no_grad():\n",
        "        ix_dev = torch.randint(0, Xdev.shape[0], (32,))\n",
        "        emb_dev = C[Xdev[ix_dev]] # (32, 3, 2)\n",
        "        h_dev = torch.tanh(emb_dev.view(-1, 3*64) @ W1 + b1) # (32, 100)\n",
        "        logits_dev = h_dev @ W2 + b2 # (32, 27)\n",
        "        loss_dev = F.cross_entropy(logits_dev, Ydev[ix_dev])\n",
        "        lossi_dev.append(loss_dev.item())\n",
        "\n",
        "print(lossi[-1], lossi_dev[-1])"
      ]
    },
    {
      "cell_type": "code",
      "execution_count": 42,
      "metadata": {
        "colab": {
          "base_uri": "https://localhost:8080/"
        },
        "id": "whB_lsOyD6YN",
        "outputId": "0c57a3cd-b946-49fe-b40a-a37c5e5a7d05"
      },
      "outputs": [
        {
          "data": {
            "text/plain": [
              "torch.Size([32, 3, 64])"
            ]
          },
          "execution_count": 42,
          "metadata": {},
          "output_type": "execute_result"
        }
      ],
      "source": [
        "emb.shape"
      ]
    },
    {
      "cell_type": "code",
      "execution_count": 43,
      "metadata": {
        "colab": {
          "base_uri": "https://localhost:8080/"
        },
        "id": "otQ3_N6DD6YN",
        "outputId": "d9b72c50-7212-41d8-8cf9-4d7168385a21"
      },
      "outputs": [
        {
          "data": {
            "text/plain": [
              "tensor(2.1402)"
            ]
          },
          "execution_count": 43,
          "metadata": {},
          "output_type": "execute_result"
        }
      ],
      "source": [
        "with torch.no_grad():\n",
        "    emb = C[Xtr]\n",
        "    h = torch.tanh(emb.view(-1, 3*64)@W1 + b1)\n",
        "    logits = h @W2 + b2\n",
        "    loss = F.cross_entropy(logits, Ytr)\n",
        "loss"
      ]
    },
    {
      "cell_type": "code",
      "execution_count": 44,
      "metadata": {
        "colab": {
          "base_uri": "https://localhost:8080/"
        },
        "id": "MPRAdXFfD6YN",
        "outputId": "ca71189a-5f37-4234-9e65-8b07a4ea62e2"
      },
      "outputs": [
        {
          "data": {
            "text/plain": [
              "tensor(2.1766)"
            ]
          },
          "execution_count": 44,
          "metadata": {},
          "output_type": "execute_result"
        }
      ],
      "source": [
        "with torch.no_grad():\n",
        "    emb = C[Xdev]\n",
        "    h = torch.tanh(emb.view(-1, 3*64)@W1 + b1)\n",
        "    logits = h @W2 + b2\n",
        "    loss = F.cross_entropy(logits, Ydev)\n",
        "loss"
      ]
    },
    {
      "cell_type": "code",
      "execution_count": 45,
      "metadata": {
        "id": "YA3whlNqD6YN"
      },
      "outputs": [],
      "source": [
        "# plt.plot(lri, lossi)"
      ]
    },
    {
      "cell_type": "code",
      "execution_count": 46,
      "metadata": {
        "colab": {
          "base_uri": "https://localhost:8080/",
          "height": 530
        },
        "id": "1AIBL5HoD6YN",
        "outputId": "a41cb43c-75ad-4ad0-a18b-99fcf73378c9"
      },
      "outputs": [
        {
          "data": {
            "text/plain": [
              "<matplotlib.legend.Legend at 0x7fea484e1a00>"
            ]
          },
          "execution_count": 46,
          "metadata": {},
          "output_type": "execute_result"
        },
        {
          "data": {
            "image/png": "[encoded data removed]",
            "text/plain": [
              "<Figure size 1152x576 with 1 Axes>"
            ]
          },
          "metadata": {
            "needs_background": "light"
          },
          "output_type": "display_data"
        }
      ],
      "source": [
        "plt.figure(figsize = (16,8))\n",
        "\n",
        "plt.plot(lossi, alpha=0.7)\n",
        "plt.plot(lossi_dev, alpha=0.7)\n",
        "\n",
        "plt.title('model loss')\n",
        "plt.ylabel('loss')\n",
        "plt.xlabel('epoch')\n",
        "plt.legend(['train', 'dev'], loc='upper right')"
      ]
    },
    {
      "cell_type": "code",
      "execution_count": 47,
      "metadata": {
        "colab": {
          "base_uri": "https://localhost:8080/"
        },
        "id": "k0B4dzOaD6YO",
        "outputId": "8fa154e5-b883-495f-bfbd-be0fe45e748a"
      },
      "outputs": [
        {
          "data": {
            "text/plain": [
              "tensor(2.1754)"
            ]
          },
          "execution_count": 47,
          "metadata": {},
          "output_type": "execute_result"
        }
      ],
      "source": [
        "with torch.no_grad():\n",
        "    emb = C[Xtest]\n",
        "    h = torch.tanh(emb.view(-1, 3*64)@W1 + b1)\n",
        "    logits = h @W2 + b2\n",
        "    loss = F.cross_entropy(logits, Ytest)\n",
        "loss"
      ]
    },
    {
      "cell_type": "markdown",
      "metadata": {
        "id": "0rwP-jNPD6YO"
      },
      "source": [
        "Exercises:\n",
        "- E01: Tune the hyperparameters of the training to beat my best validation loss of 2.2.\n",
        "\n",
        "\n",
        "Since my best validation loss is 1.87, I guess exercise 1 is fulfilled. However, the model looks like it is\n",
        "underfitting because the dev loss and training loss are very close at the end. But this needs to be reviewed more on accuracy if the accuracies are high."
      ]
    },
    {
      "cell_type": "markdown",
      "metadata": {
        "id": "gxxKIVjtD6YO"
      },
      "source": [
        "- E02: I was not careful with the intialization of the network in this video. (1) What is the loss you'd get if the predicted probabilities at initialization were perfectly uniform? What loss do we achieve? \n",
        "\n",
        "\n",
        "In order to make the probabilities at initialization were perfectly uniform is either by making the weight to be zero or increasing the logit-value to be a very high number. "
      ]
    },
    {
      "cell_type": "code",
      "execution_count": 48,
      "metadata": {
        "id": "uFXVDRHkD6YO"
      },
      "outputs": [],
      "source": [
        "g = torch.Generator().manual_seed(2147483647)\n",
        "C = torch.randn((27, 64), generator=g)* 0\n",
        "W1 = torch.randn((3*64, 128), generator=g) * 0\n",
        "b1 = torch.randn(128, generator=g) * 0\n",
        "W2 = torch.randn((128, 27), generator=g)* 0\n",
        "b2 = torch.randn(27, generator=g)* 0\n",
        "parameters = [C, W1, b1, W2, b2]\n",
        "for p in parameters:\n",
        "    p.requires_grad = True"
      ]
    },
    {
      "cell_type": "code",
      "execution_count": 49,
      "metadata": {
        "colab": {
          "base_uri": "https://localhost:8080/"
        },
        "id": "Pn12NvmND6YO",
        "outputId": "3f22948a-7439-4c10-d08b-a0b356c1069a"
      },
      "outputs": [
        {
          "name": "stdout",
          "output_type": "stream",
          "text": [
            "tensor([0., 0., 0., 0., 0., 0., 0., 0., 0., 0., 0., 0., 0., 0., 0., 0., 0., 0., 0., 0., 0., 0., 0., 0.,\n",
            "        0., 0., 0.], grad_fn=<SelectBackward0>)\n",
            "Tthe loss I'd get if the predicted probabilities at initialization were perfectly uniform is 3.295837163925171.\n",
            "2.8181307315826416 2.6191186904907227\n"
          ]
        }
      ],
      "source": [
        "#becareful that in production does not run the randint to get the training index for performance reason.\n",
        "lri = []\n",
        "lossi = []\n",
        "lossi_dev = []\n",
        "stepi = []\n",
        "for i in range(20000):\n",
        "    # minibatch construct\n",
        "    ix = torch.randint(0, Xtr.shape[0], (32,))\n",
        "    # forward pass\n",
        "\n",
        "    emb = C[Xtr[ix]] # (32, 3, 2)\n",
        "    h = torch.tanh(emb.view(-1, 3*64) @ W1 + b1) # (32, 100)\n",
        "    logits = h @ W2 + b2 # (32, 27)\n",
        "    #loss = F.cross_entropy(logits, Ytr[ix]) + 1*(C**2).mean() + 1*(W1**2).mean() + 1*(W2**2).mean()).mean()\n",
        "    loss = F.cross_entropy(logits, Ytr[ix])\n",
        "\n",
        "    with torch.no_grad():\n",
        "        # dev forward part\n",
        "        ix_dev = torch.randint(0, Xdev.shape[0], (32,))\n",
        "        emb_dev = C[Xdev[ix_dev]] # (32, 3, 2)\n",
        "        h_dev = torch.tanh(emb_dev.view(-1, 3*64) @ W1 + b1) # (32, 100)\n",
        "        logits_dev = h_dev @ W2 + b2 # (32, 27)\n",
        "        loss_dev = F.cross_entropy(logits_dev, Ydev[ix_dev])\n",
        "        lossi_dev.append(loss_dev.item())\n",
        "\n",
        "    # backward pass\n",
        "    for p in parameters:\n",
        "        p.grad = None\n",
        "    loss.backward()\n",
        "    # update\n",
        "    lr = 10**-1\n",
        "    if(i>=15000): lr = 10**-2\n",
        "    for p in parameters:\n",
        "        p.data += -lr * p.grad\n",
        "\n",
        "    stepi.append(i)\n",
        "    lossi.append(loss.item())\n",
        "    if(i==0):\n",
        "        print(logits[-1])\n",
        "        print(f'Tthe loss I\\'d get if the predicted probabilities at initialization were perfectly uniform is {loss.item()}.')\n",
        "print(lossi[-1], lossi_dev[-1])\n"
      ]
    },
    {
      "cell_type": "code",
      "execution_count": 50,
      "metadata": {
        "colab": {
          "base_uri": "https://localhost:8080/"
        },
        "id": "EgTBfohcD6YP",
        "outputId": "f52f0710-045a-4176-dfe2-33d78bc246b7"
      },
      "outputs": [
        {
          "name": "stdout",
          "output_type": "stream",
          "text": [
            "tensor(2.8227)\n"
          ]
        },
        {
          "data": {
            "text/plain": [
              "tensor(2.8209)"
            ]
          },
          "execution_count": 50,
          "metadata": {},
          "output_type": "execute_result"
        }
      ],
      "source": [
        "with torch.no_grad():\n",
        "    emb = C[Xtr]\n",
        "    h = torch.tanh(emb.view(-1, 3*64)@W1 + b1)\n",
        "    logits = h @W2 + b2\n",
        "    loss = F.cross_entropy(logits, Ytr)\n",
        "print(loss)\n",
        "\n",
        "with torch.no_grad():\n",
        "    emb = C[Xdev]\n",
        "    h = torch.tanh(emb.view(-1, 3*64)@W1 + b1)\n",
        "    logits = h @W2 + b2\n",
        "    loss = F.cross_entropy(logits, Ydev)\n",
        "loss"
      ]
    },
    {
      "cell_type": "code",
      "execution_count": 51,
      "metadata": {
        "colab": {
          "base_uri": "https://localhost:8080/"
        },
        "id": "9b9Z3eZwD6YP",
        "outputId": "9926af19-dd60-4dc5-9c55-bf8506eaddea"
      },
      "outputs": [
        {
          "name": "stdout",
          "output_type": "stream",
          "text": [
            "Tthe loss I'd get if the predicted probabilities at initialization were perfectly uniform is 22.3605899810791.\n",
            "2.4189820289611816 2.6354455947875977\n"
          ]
        }
      ],
      "source": [
        "#Increasing the logit-value to be a very high number\n",
        "g = torch.Generator().manual_seed(2147483647)\n",
        "C = torch.randn((27, 64), generator=g)\n",
        "W1 = torch.randn((3*64, 128), generator=g)\n",
        "b1 = torch.randn(128, generator=g)\n",
        "W2 = torch.randn((128, 27), generator=g)\n",
        "b2 = torch.randn(27, generator=g)\n",
        "parameters = [C, W1, b1, W2, b2]\n",
        "for p in parameters:\n",
        "    p.requires_grad = True\n",
        "\n",
        "lri = []\n",
        "lossi = []\n",
        "lossi_dev = []\n",
        "stepi = []\n",
        "for i in range(20000):\n",
        "    # minibatch construct\n",
        "    ix = torch.randint(0, Xtr.shape[0], (32,))\n",
        "    # forward pass\n",
        "\n",
        "    emb = C[Xtr[ix]] # (32, 3, 2)\n",
        "    h = torch.tanh(emb.view(-1, 3*64) @ W1 + b1) # (32, 100)\n",
        "    logits = h @ W2 + b2 # (32, 27)\n",
        "    logits += 999\n",
        "    #loss = F.cross_entropy(logits, Ytr[ix]) + 1*(C**2).mean() + 1*(W1**2).mean() + 1*(W2**2).mean()\n",
        "    loss = F.cross_entropy(logits, Ytr[ix])\n",
        "\n",
        "    with torch.no_grad():\n",
        "        # dev forward part\n",
        "        ix_dev = torch.randint(0, Xdev.shape[0], (32,))\n",
        "        emb_dev = C[Xdev[ix_dev]] # (32, 3, 2)\n",
        "        h_dev = torch.tanh(emb_dev.view(-1, 3*64) @ W1 + b1) # (32, 100)\n",
        "        logits_dev = h_dev @ W2 + b2 # (32, 27)\n",
        "        loss_dev = F.cross_entropy(logits_dev, Ydev[ix_dev])\n",
        "        lossi_dev.append(loss_dev.item())\n",
        "\n",
        "    # backward pass\n",
        "    for p in parameters:\n",
        "        p.grad = None\n",
        "    loss.backward()\n",
        "    # update\n",
        "    lr = 10**-1\n",
        "    if(i>=15000): lr = 10**-2\n",
        "    for p in parameters:\n",
        "        p.data += -lr * p.grad\n",
        "\n",
        "    stepi.append(i)\n",
        "    lossi.append(loss.item())\n",
        "    if(i==0):\n",
        "        print(f'Tthe loss I\\'d get if the predicted probabilities at initialization were perfectly uniform is {loss.item()}.')\n",
        "print(lossi[-1], lossi_dev[-1])\n"
      ]
    },
    {
      "cell_type": "markdown",
      "metadata": {
        "id": "B3W6xU7wD6YP"
      },
      "source": [
        "Exercises 2:\n",
        "- E02: I was not careful with the intialization of the network in this video. (1) What is the loss you'd get if the predicted probabilities at initialization were perfectly uniform? What loss do we achieve? (2) Can you tune the initialization to get a starting loss that is much more similar to (1)?\n",
        "\n",
        "The loss was 3.30 at initialization by initiating the weight to be zero, and resulted dev loss in 2.82.\n",
        "The loss was 16.2 at initialization by increasing the the logits to be a very large value, and resulted dev loss in 2.27.\n"
      ]
    },
    {
      "cell_type": "code",
      "execution_count": 52,
      "metadata": {
        "colab": {
          "base_uri": "https://localhost:8080/"
        },
        "id": "9n9CJZ_3D6YQ",
        "outputId": "ad14d17c-6de2-4cb7-b527-f7a0b14f515a"
      },
      "outputs": [
        {
          "data": {
            "text/plain": [
              "tensor(2.2321)"
            ]
          },
          "execution_count": 52,
          "metadata": {},
          "output_type": "execute_result"
        }
      ],
      "source": [
        "with torch.no_grad():\n",
        "    emb = C[Xtr]\n",
        "    h = torch.tanh(emb.view(-1, 3*64)@W1 + b1)\n",
        "    logits = h @W2 + b2\n",
        "    loss = F.cross_entropy(logits, Ytr)\n",
        "loss"
      ]
    },
    {
      "cell_type": "code",
      "execution_count": 53,
      "metadata": {
        "colab": {
          "base_uri": "https://localhost:8080/"
        },
        "id": "OGdd9q1ZD6YQ",
        "outputId": "74244b9b-078d-420c-db10-9a7ef5c1a590"
      },
      "outputs": [
        {
          "data": {
            "text/plain": [
              "tensor(2.2797)"
            ]
          },
          "execution_count": 53,
          "metadata": {},
          "output_type": "execute_result"
        }
      ],
      "source": [
        "with torch.no_grad():\n",
        "    emb = C[Xdev]\n",
        "    h = torch.tanh(emb.view(-1, 3*64)@W1 + b1)\n",
        "    logits = h @W2 + b2\n",
        "    loss = F.cross_entropy(logits, Ydev)\n",
        "loss"
      ]
    },
    {
      "cell_type": "code",
      "execution_count": 54,
      "metadata": {
        "colab": {
          "base_uri": "https://localhost:8080/"
        },
        "id": "2ZXMX2c4D6YQ",
        "outputId": "faf454f4-450c-436f-fefc-5549365b6e70"
      },
      "outputs": [
        {
          "data": {
            "text/plain": [
              "tensor(2.2848)"
            ]
          },
          "execution_count": 54,
          "metadata": {},
          "output_type": "execute_result"
        }
      ],
      "source": [
        "with torch.no_grad():\n",
        "    emb = C[Xtest]\n",
        "    h = torch.tanh(emb.view(-1, 3*64)@W1 + b1)\n",
        "    logits = h @W2 + b2\n",
        "    loss = F.cross_entropy(logits, Ytest)\n",
        "loss"
      ]
    },
    {
      "cell_type": "markdown",
      "metadata": {
        "id": "lhnhVXbXD6YQ"
      },
      "source": [
        "part 2"
      ]
    },
    {
      "cell_type": "code",
      "execution_count": 55,
      "metadata": {
        "colab": {
          "base_uri": "https://localhost:8080/"
        },
        "id": "f0mGkvMwD6YQ",
        "outputId": "9960fcda-cc94-4faf-e0a3-d2e7f4d7e54b"
      },
      "outputs": [
        {
          "name": "stdout",
          "output_type": "stream",
          "text": [
            "2.4287502765655518 2.1329421997070312\n"
          ]
        }
      ],
      "source": [
        "n_embd, block_size = 64, 3\n",
        "g = torch.Generator().manual_seed(2147483647)\n",
        "C = torch.randn((27, n_embd), generator=g)\n",
        "W1 = torch.randn((3*n_embd, 128), generator=g) * (5/3) / ((n_embd * block_size))\n",
        "b1 = torch.randn(128, generator=g) * 0.01\n",
        "W2 = torch.randn((128, 27), generator=g)* 0.01\n",
        "b2 = torch.randn(27, generator=g)*  0\n",
        "parameters = [C, W1, b1, W2, b2]\n",
        "for p in parameters:\n",
        "    p.requires_grad = True\n",
        "#becareful that in production does not run the randint to get the training index for performance reason.\n",
        "lri = []\n",
        "lossi = []\n",
        "lossi_dev = []\n",
        "stepi = []\n",
        "for i in range(20000):\n",
        "    # minibatch construct\n",
        "    ix = torch.randint(0, Xtr.shape[0], (32,))\n",
        "    # forward pass\n",
        "\n",
        "    emb = C[Xtr[ix]] # (32, 3, 2)\n",
        "    h = torch.tanh(emb.view(-1, 3*64) @ W1 + b1) # (32, 100)\n",
        "    logits = h @ W2 + b2 # (32, 27)\n",
        "    loss = F.cross_entropy(logits, Ytr[ix]) + 0.01*(C**2).mean() + 0.01*(W1**2).mean() + 0.01*(W2**2).mean()\n",
        "    # loss = F.cross_entropy(logits, Ytr[ix])\n",
        "\n",
        "    with torch.no_grad():\n",
        "        # dev forward part\n",
        "        ix_dev = torch.randint(0, Xdev.shape[0], (32,))\n",
        "        emb_dev = C[Xdev[ix_dev]] # (32, 3, 2)\n",
        "        h_dev = torch.tanh(emb_dev.view(-1, 3*64) @ W1 + b1) # (32, 100)\n",
        "        logits_dev = h_dev @ W2 + b2 # (32, 27)\n",
        "        loss_dev = F.cross_entropy(logits_dev, Ydev[ix_dev])\n",
        "        lossi_dev.append(loss_dev.item())\n",
        "\n",
        "    # backward pass\n",
        "    for p in parameters:\n",
        "        p.grad = None\n",
        "    loss.backward()\n",
        "    # update\n",
        "    lr = 10**-1\n",
        "    if(i>=15000): lr = 10**-2\n",
        "    for p in parameters:\n",
        "        p.data += -lr * p.grad\n",
        "\n",
        "    stepi.append(i)\n",
        "    lossi.append(loss.item())\n",
        "print(lossi[-1], lossi_dev[-1])\n",
        "\n"
      ]
    },
    {
      "cell_type": "code",
      "execution_count": 56,
      "metadata": {
        "colab": {
          "base_uri": "https://localhost:8080/"
        },
        "id": "5CYR8n89D6YR",
        "outputId": "e89d3589-ead7-4643-d0f6-3c21ea9e5c6b"
      },
      "outputs": [
        {
          "data": {
            "text/plain": [
              "tensor(2.1089)"
            ]
          },
          "execution_count": 56,
          "metadata": {},
          "output_type": "execute_result"
        }
      ],
      "source": [
        "with torch.no_grad():\n",
        "    emb = C[Xtr]\n",
        "    h = torch.tanh(emb.view(-1, 3*64)@W1 + b1)\n",
        "    logits = h @W2 + b2\n",
        "    loss = F.cross_entropy(logits, Ytr)\n",
        "loss"
      ]
    },
    {
      "cell_type": "code",
      "execution_count": 57,
      "metadata": {
        "colab": {
          "base_uri": "https://localhost:8080/"
        },
        "id": "TBNiX6EKD6YR",
        "outputId": "eca3c8bf-d2fa-4605-eab7-9e4ecb6e6097"
      },
      "outputs": [
        {
          "data": {
            "text/plain": [
              "tensor(2.1369)"
            ]
          },
          "execution_count": 57,
          "metadata": {},
          "output_type": "execute_result"
        }
      ],
      "source": [
        "with torch.no_grad():\n",
        "    emb = C[Xdev]\n",
        "    h = torch.tanh(emb.view(-1, 3*64)@W1 + b1)\n",
        "    logits = h @W2 + b2\n",
        "    loss = F.cross_entropy(logits, Ydev)\n",
        "loss"
      ]
    },
    {
      "cell_type": "code",
      "execution_count": 58,
      "metadata": {
        "colab": {
          "base_uri": "https://localhost:8080/"
        },
        "id": "RMYzhsurD6YR",
        "outputId": "8dabd271-703f-47f1-c673-15ad771b667e"
      },
      "outputs": [
        {
          "data": {
            "text/plain": [
              "tensor(2.1361)"
            ]
          },
          "execution_count": 58,
          "metadata": {},
          "output_type": "execute_result"
        }
      ],
      "source": [
        "with torch.no_grad():\n",
        "    emb = C[Xtest]\n",
        "    h = torch.tanh(emb.view(-1, 3*64)@W1 + b1)\n",
        "    logits = h @W2 + b2\n",
        "    loss = F.cross_entropy(logits, Ytest)\n",
        "loss"
      ]
    },
    {
      "cell_type": "markdown",
      "metadata": {
        "id": "a-BV6qWND6YR"
      },
      "source": [
        "(2) Can you tune the initialization to get a starting loss that is much more similar to (1)?\n",
        "\n",
        "I don't think I can because perfectly uniform means not learning. We can't really train a model with a trainable weight, and got a perfectly uniform prediction at the end, unless the model is not working."
      ]
    },
    {
      "cell_type": "markdown",
      "metadata": {
        "id": "95UI5vM-D6YS"
      },
      "source": [
        "- E03: Read the Bengio et al 2003 paper (link above), implement and try any idea from the paper. Did it work?\n",
        "I used the fan in method for tanh. But it is still not getting closer to loss of 1."
      ]
    },
    {
      "cell_type": "code",
      "execution_count": 58,
      "metadata": {
        "id": "VCG_dommD6YS"
      },
      "outputs": [],
      "source": []
    },
    {
      "cell_type": "code",
      "execution_count": 58,
      "metadata": {
        "id": "v1V3eIfFD6YS"
      },
      "outputs": [],
      "source": []
    }
  ],
  "metadata": {
    "accelerator": "GPU",
    "colab": {
      "machine_shape": "hm",
      "provenance": []
    },
    "kernelspec": {
      "display_name": "Python 3.9.12 ('base')",
      "language": "python",
      "name": "python3"
    },
    "language_info": {
      "codemirror_mode": {
        "name": "ipython",
        "version": 3
      },
      "file_extension": ".py",
      "mimetype": "text/x-python",
      "name": "python",
      "nbconvert_exporter": "python",
      "pygments_lexer": "ipython3",
      "version": "3.9.12"
    },
    "vscode": {
      "interpreter": {
        "hash": "277b78f2730b0903abf2859ae01821a113fbf907e4071225ef1d3ec9542f1da7"
      }
    }
  },
  "nbformat": 4,
  "nbformat_minor": 0
}
