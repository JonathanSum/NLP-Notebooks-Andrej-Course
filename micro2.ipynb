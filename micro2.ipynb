{
 "cells": [
  {
   "cell_type": "code",
   "execution_count": 1,
   "metadata": {},
   "outputs": [],
   "source": [
    "import math\n",
    "import numpy as np\n",
    "import matplotlib.pyplot as plt\n",
    "%matplotlib inline"
   ]
  },
  {
   "cell_type": "code",
   "execution_count": 2,
   "metadata": {},
   "outputs": [],
   "source": [
    "class Value:\n",
    "  \n",
    "  def __init__(self, data, _children=(), _op='', label=''):\n",
    "    self.data = data\n",
    "    self.grad = 0.0\n",
    "    self._backward = lambda: None\n",
    "    self._prev = set(_children)\n",
    "    self._op = _op\n",
    "    self.label = label\n",
    "\n",
    "  def __repr__(self):\n",
    "    return f\"Value(data={self.data})\"\n",
    "  \n",
    "  def __add__(self, other):\n",
    "    other = other if isinstance(other, Value) else Value(other)\n",
    "    out = Value(self.data + other.data, (self, other), '+')\n",
    "    \n",
    "    def _backward():\n",
    "      self.grad += 1.0 * out.grad\n",
    "      other.grad += 1.0 * out.grad\n",
    "    out._backward = _backward\n",
    "    \n",
    "    return out\n",
    "\n",
    "  def __mul__(self, other):\n",
    "    other = other if isinstance(other, Value) else Value(other)\n",
    "    out = Value(self.data * other.data, (self, other), '*')\n",
    "    \n",
    "    def _backward():\n",
    "      self.grad += other.data * out.grad\n",
    "      other.grad += self.data * out.grad\n",
    "    out._backward = _backward\n",
    "      \n",
    "    return out\n",
    "  def __pow__(self, other):\n",
    "    assert isinstance(other, (int, float)), \"only supporting int/float powers for now\"\n",
    "    out = Value(self.data**other, (self,), f'**{other}')\n",
    "\n",
    "    def _backward():\n",
    "        self.grad += other* (self.data **(other - 1)) * out.grad   \n",
    "    out._backward = _backward\n",
    "    return out\n",
    "    \n",
    "  def __rmul__(self, other): # other * self\n",
    "    return self * other\n",
    "\n",
    "  def __truediv__(self, other):\n",
    "    return self * other**-1\n",
    "  def __neg__(self):\n",
    "    return self *-1\n",
    "\n",
    "  def __sub__(self, other):\n",
    "    return self + (-other)\n",
    "\n",
    "  def __radd__(self, other):    # self + other\n",
    "    return self + other\n",
    "\n",
    "\n",
    "  def tanh(self):\n",
    "    x = self.data\n",
    "    t = (math.exp(2*x) - 1)/(math.exp(2*x) + 1)\n",
    "    out = Value(t, (self, ), 'tanh')\n",
    "    \n",
    "    def _backward():\n",
    "      self.grad += (1 - t**2) * out.grad\n",
    "    out._backward = _backward\n",
    "    \n",
    "    return out\n",
    "  def exp(self):\n",
    "    x = self.data\n",
    "    out = Value(math.exp(x), (self, ), 'exp')\n",
    "    \n",
    "    def _backward():\n",
    "      self.grad += out.data * out.grad \n",
    "    out._backward = _backward\n",
    "    return out\n",
    "\n",
    "  def backward(self) :\n",
    "    topo = []\n",
    "    visited = set()\n",
    "    def build_topo(v):\n",
    "      if v not in visited:\n",
    "        visited.add(v)\n",
    "        for child in v._prev:\n",
    "          build_topo(child)\n",
    "        topo.append(v)\n",
    "    build_topo(self)\n",
    "    \n",
    "    self.grad = 1.0\n",
    "    for node in reversed(topo):\n",
    "      node._backward()"
   ]
  },
  {
   "cell_type": "code",
   "execution_count": 3,
   "metadata": {},
   "outputs": [
    {
     "data": {
      "text/plain": [
       "0.0"
      ]
     },
     "execution_count": 3,
     "metadata": {},
     "output_type": "execute_result"
    }
   ],
   "source": [
    "b = Value(2.0); b =  Value(2.0)\n",
    "c = b+b\n",
    "c.grad"
   ]
  },
  {
   "cell_type": "code",
   "execution_count": 4,
   "metadata": {},
   "outputs": [
    {
     "data": {
      "text/plain": [
       "1.0"
      ]
     },
     "execution_count": 4,
     "metadata": {},
     "output_type": "execute_result"
    }
   ],
   "source": [
    "a = Value(2.0, label='a')\n",
    "b = -a; b.label='b'\n",
    "b.backward()\n",
    "b.grad"
   ]
  },
  {
   "cell_type": "code",
   "execution_count": null,
   "metadata": {},
   "outputs": [],
   "source": [
    "# !pip install graphviz"
   ]
  },
  {
   "cell_type": "code",
   "execution_count": null,
   "metadata": {},
   "outputs": [],
   "source": [
    "from graphviz import Digraph"
   ]
  },
  {
   "cell_type": "code",
   "execution_count": 6,
   "metadata": {},
   "outputs": [],
   "source": [
    "import os\n",
    "os.environ[\"PATH\"] += os.pathsep + 'D:/Program Files (x86)/Graphviz2.38/bin/'"
   ]
  },
  {
   "cell_type": "code",
   "execution_count": 7,
   "metadata": {},
   "outputs": [],
   "source": [
    "from graphviz import Digraph\n",
    "\n",
    "def trace(root):\n",
    "  # builds a set of all nodes and edges in a graph\n",
    "  nodes, edges = set(), set()\n",
    "  def build(v):\n",
    "    if v not in nodes:\n",
    "      nodes.add(v)\n",
    "      for child in v._prev:\n",
    "        edges.add((child, v))\n",
    "        build(child)\n",
    "  build(root)\n",
    "  return nodes, edges\n",
    "\n",
    "def draw_dot(root):\n",
    "  dot = Digraph(format='svg', graph_attr={'rankdir': 'LR'}) # LR = left to right\n",
    "  \n",
    "  nodes, edges = trace(root)\n",
    "  for n in nodes:\n",
    "    uid = str(id(n))\n",
    "    # for any value in the graph, create a rectangular ('record') node for it\n",
    "    dot.node(name = uid, label = \"{ %s | data %.4f | grad %.4f }\" % (n.label, n.data, n.grad), shape='record')\n",
    "    if n._op:\n",
    "      # if this value is a result of some operation, create an op node for it\n",
    "      dot.node(name = uid + n._op, label = n._op)\n",
    "      # and connect this node to it\n",
    "      dot.edge(uid + n._op, uid)\n",
    "\n",
    "  for n1, n2 in edges:\n",
    "    # connect n1 to the op node of n2\n",
    "    dot.edge(str(id(n1)), str(id(n2)) + n2._op)\n",
    "\n",
    "  return dot"
   ]
  },
  {
   "cell_type": "code",
   "execution_count": 10,
   "metadata": {},
   "outputs": [],
   "source": [
    "# inputs x1,x2\n",
    "x1 = Value(2.0, label='x1')\n",
    "x2 = Value(0.0, label='x2')\n",
    "# weights w1,w2\n",
    "w1 = Value(-3.0, label='w1')\n",
    "w2 = Value(1.0, label='w2')\n",
    "# bias of the neuron\n",
    "b = Value(6.8813735870195432, label='b')\n",
    "# x1*w1 + x2*w2 + b\n",
    "x1w1 = x1*w1; x1w1.label = 'x1*w1'\n",
    "x2w2 = x2*w2; x2w2.label = 'x2*w2'\n",
    "x1w1x2w2 = x1w1 + x2w2; x1w1x2w2.label = 'x1*w1 + x2*w2'\n",
    "n = x1w1x2w2 + b; n.label = 'n'\n",
    "o = n.tanh(); o.label = 'o'\n",
    "o.backward()"
   ]
  },
  {
   "cell_type": "code",
   "execution_count": 11,
   "metadata": {},
   "outputs": [
    {
     "data": {
      "image/svg+xml": "<?xml version=\"1.0\" encoding=\"UTF-8\" standalone=\"no\"?>\n<!DOCTYPE svg PUBLIC \"-//W3C//DTD SVG 1.1//EN\"\n \"http://www.w3.org/Graphics/SVG/1.1/DTD/svg11.dtd\">\n<!-- Generated by graphviz version 2.50.0 (0)\n -->\n<!-- Pages: 1 -->\n<svg width=\"1575pt\" height=\"210pt\"\n viewBox=\"0.00 0.00 1575.00 210.00\" xmlns=\"http://www.w3.org/2000/svg\" xmlns:xlink=\"http://www.w3.org/1999/xlink\">\n<g id=\"graph0\" class=\"graph\" transform=\"scale(1 1) rotate(0) translate(4 206)\">\n<polygon fill=\"white\" stroke=\"transparent\" points=\"-4,4 -4,-206 1571,-206 1571,4 -4,4\"/>\n<!-- 2489005897760 -->\n<g id=\"node1\" class=\"node\">\n<title>2489005897760</title>\n<polygon fill=\"none\" stroke=\"black\" points=\"0,-165.5 0,-201.5 200,-201.5 200,-165.5 0,-165.5\"/>\n<text text-anchor=\"middle\" x=\"16.5\" y=\"-179.8\" font-family=\"Times New Roman,serif\" font-size=\"14.00\">w1</text>\n<polyline fill=\"none\" stroke=\"black\" points=\"33,-165.5 33,-201.5 \"/>\n<text text-anchor=\"middle\" x=\"75.5\" y=\"-179.8\" font-family=\"Times New Roman,serif\" font-size=\"14.00\">data &#45;3.0000</text>\n<polyline fill=\"none\" stroke=\"black\" points=\"118,-165.5 118,-201.5 \"/>\n<text text-anchor=\"middle\" x=\"159\" y=\"-179.8\" font-family=\"Times New Roman,serif\" font-size=\"14.00\">grad 1.0000</text>\n</g>\n<!-- 2489005898192* -->\n<g id=\"node15\" class=\"node\">\n<title>2489005898192*</title>\n<ellipse fill=\"none\" stroke=\"black\" cx=\"263\" cy=\"-128.5\" rx=\"27\" ry=\"18\"/>\n<text text-anchor=\"middle\" x=\"263\" y=\"-124.8\" font-family=\"Times New Roman,serif\" font-size=\"14.00\">*</text>\n</g>\n<!-- 2489005897760&#45;&gt;2489005898192* -->\n<g id=\"edge11\" class=\"edge\">\n<title>2489005897760&#45;&gt;2489005898192*</title>\n<path fill=\"none\" stroke=\"black\" d=\"M172.53,-165.44C181.84,-162.67 191.2,-159.67 200,-156.5 210.53,-152.71 221.75,-147.9 231.72,-143.33\"/>\n<polygon fill=\"black\" stroke=\"black\" points=\"233.25,-146.48 240.82,-139.07 230.28,-140.14 233.25,-146.48\"/>\n</g>\n<!-- 2489004445760 -->\n<g id=\"node2\" class=\"node\">\n<title>2489004445760</title>\n<polygon fill=\"none\" stroke=\"black\" points=\"1382,-54.5 1382,-90.5 1567,-90.5 1567,-54.5 1382,-54.5\"/>\n<text text-anchor=\"middle\" x=\"1393.5\" y=\"-68.8\" font-family=\"Times New Roman,serif\" font-size=\"14.00\">o</text>\n<polyline fill=\"none\" stroke=\"black\" points=\"1405,-54.5 1405,-90.5 \"/>\n<text text-anchor=\"middle\" x=\"1445\" y=\"-68.8\" font-family=\"Times New Roman,serif\" font-size=\"14.00\">data 0.7071</text>\n<polyline fill=\"none\" stroke=\"black\" points=\"1485,-54.5 1485,-90.5 \"/>\n<text text-anchor=\"middle\" x=\"1526\" y=\"-68.8\" font-family=\"Times New Roman,serif\" font-size=\"14.00\">grad 1.0000</text>\n</g>\n<!-- 2489004445760tanh -->\n<g id=\"node3\" class=\"node\">\n<title>2489004445760tanh</title>\n<ellipse fill=\"none\" stroke=\"black\" cx=\"1319\" cy=\"-72.5\" rx=\"27\" ry=\"18\"/>\n<text text-anchor=\"middle\" x=\"1319\" y=\"-68.8\" font-family=\"Times New Roman,serif\" font-size=\"14.00\">tanh</text>\n</g>\n<!-- 2489004445760tanh&#45;&gt;2489004445760 -->\n<g id=\"edge1\" class=\"edge\">\n<title>2489004445760tanh&#45;&gt;2489004445760</title>\n<path fill=\"none\" stroke=\"black\" d=\"M1346.04,-72.5C1353.58,-72.5 1362.3,-72.5 1371.57,-72.5\"/>\n<polygon fill=\"black\" stroke=\"black\" points=\"1371.81,-76 1381.81,-72.5 1371.81,-69 1371.81,-76\"/>\n</g>\n<!-- 2489004446288 -->\n<g id=\"node4\" class=\"node\">\n<title>2489004446288</title>\n<polygon fill=\"none\" stroke=\"black\" points=\"672,-82.5 672,-118.5 945,-118.5 945,-82.5 672,-82.5\"/>\n<text text-anchor=\"middle\" x=\"725\" y=\"-96.8\" font-family=\"Times New Roman,serif\" font-size=\"14.00\">x1*w1 + x2*w2</text>\n<polyline fill=\"none\" stroke=\"black\" points=\"778,-82.5 778,-118.5 \"/>\n<text text-anchor=\"middle\" x=\"820.5\" y=\"-96.8\" font-family=\"Times New Roman,serif\" font-size=\"14.00\">data &#45;6.0000</text>\n<polyline fill=\"none\" stroke=\"black\" points=\"863,-82.5 863,-118.5 \"/>\n<text text-anchor=\"middle\" x=\"904\" y=\"-96.8\" font-family=\"Times New Roman,serif\" font-size=\"14.00\">grad 0.5000</text>\n</g>\n<!-- 2489004447392+ -->\n<g id=\"node8\" class=\"node\">\n<title>2489004447392+</title>\n<ellipse fill=\"none\" stroke=\"black\" cx=\"1008\" cy=\"-72.5\" rx=\"27\" ry=\"18\"/>\n<text text-anchor=\"middle\" x=\"1008\" y=\"-68.8\" font-family=\"Times New Roman,serif\" font-size=\"14.00\">+</text>\n</g>\n<!-- 2489004446288&#45;&gt;2489004447392+ -->\n<g id=\"edge13\" class=\"edge\">\n<title>2489004446288&#45;&gt;2489004447392+</title>\n<path fill=\"none\" stroke=\"black\" d=\"M936.53,-82.49C949.09,-80.71 960.99,-79.02 971.3,-77.56\"/>\n<polygon fill=\"black\" stroke=\"black\" points=\"972.03,-80.99 981.44,-76.12 971.05,-74.06 972.03,-80.99\"/>\n</g>\n<!-- 2489004446288+ -->\n<g id=\"node5\" class=\"node\">\n<title>2489004446288+</title>\n<ellipse fill=\"none\" stroke=\"black\" cx=\"609\" cy=\"-100.5\" rx=\"27\" ry=\"18\"/>\n<text text-anchor=\"middle\" x=\"609\" y=\"-96.8\" font-family=\"Times New Roman,serif\" font-size=\"14.00\">+</text>\n</g>\n<!-- 2489004446288+&#45;&gt;2489004446288 -->\n<g id=\"edge2\" class=\"edge\">\n<title>2489004446288+&#45;&gt;2489004446288</title>\n<path fill=\"none\" stroke=\"black\" d=\"M636.23,-100.5C643.7,-100.5 652.41,-100.5 661.87,-100.5\"/>\n<polygon fill=\"black\" stroke=\"black\" points=\"661.98,-104 671.98,-100.5 661.98,-97 661.98,-104\"/>\n</g>\n<!-- 2489005896848 -->\n<g id=\"node6\" class=\"node\">\n<title>2489005896848</title>\n<polygon fill=\"none\" stroke=\"black\" points=\"4,-55.5 4,-91.5 196,-91.5 196,-55.5 4,-55.5\"/>\n<text text-anchor=\"middle\" x=\"19\" y=\"-69.8\" font-family=\"Times New Roman,serif\" font-size=\"14.00\">x2</text>\n<polyline fill=\"none\" stroke=\"black\" points=\"34,-55.5 34,-91.5 \"/>\n<text text-anchor=\"middle\" x=\"74\" y=\"-69.8\" font-family=\"Times New Roman,serif\" font-size=\"14.00\">data 0.0000</text>\n<polyline fill=\"none\" stroke=\"black\" points=\"114,-55.5 114,-91.5 \"/>\n<text text-anchor=\"middle\" x=\"155\" y=\"-69.8\" font-family=\"Times New Roman,serif\" font-size=\"14.00\">grad 0.5000</text>\n</g>\n<!-- 2489004446960* -->\n<g id=\"node12\" class=\"node\">\n<title>2489004446960*</title>\n<ellipse fill=\"none\" stroke=\"black\" cx=\"263\" cy=\"-73.5\" rx=\"27\" ry=\"18\"/>\n<text text-anchor=\"middle\" x=\"263\" y=\"-69.8\" font-family=\"Times New Roman,serif\" font-size=\"14.00\">*</text>\n</g>\n<!-- 2489005896848&#45;&gt;2489004446960* -->\n<g id=\"edge12\" class=\"edge\">\n<title>2489005896848&#45;&gt;2489004446960*</title>\n<path fill=\"none\" stroke=\"black\" d=\"M196.05,-73.5C206.52,-73.5 216.65,-73.5 225.71,-73.5\"/>\n<polygon fill=\"black\" stroke=\"black\" points=\"225.79,-77 235.79,-73.5 225.79,-70 225.79,-77\"/>\n</g>\n<!-- 2489004447392 -->\n<g id=\"node7\" class=\"node\">\n<title>2489004447392</title>\n<polygon fill=\"none\" stroke=\"black\" points=\"1071,-54.5 1071,-90.5 1256,-90.5 1256,-54.5 1071,-54.5\"/>\n<text text-anchor=\"middle\" x=\"1082.5\" y=\"-68.8\" font-family=\"Times New Roman,serif\" font-size=\"14.00\">n</text>\n<polyline fill=\"none\" stroke=\"black\" points=\"1094,-54.5 1094,-90.5 \"/>\n<text text-anchor=\"middle\" x=\"1134\" y=\"-68.8\" font-family=\"Times New Roman,serif\" font-size=\"14.00\">data 0.8814</text>\n<polyline fill=\"none\" stroke=\"black\" points=\"1174,-54.5 1174,-90.5 \"/>\n<text text-anchor=\"middle\" x=\"1215\" y=\"-68.8\" font-family=\"Times New Roman,serif\" font-size=\"14.00\">grad 0.5000</text>\n</g>\n<!-- 2489004447392&#45;&gt;2489004445760tanh -->\n<g id=\"edge14\" class=\"edge\">\n<title>2489004447392&#45;&gt;2489004445760tanh</title>\n<path fill=\"none\" stroke=\"black\" d=\"M1256.01,-72.5C1265.01,-72.5 1273.74,-72.5 1281.66,-72.5\"/>\n<polygon fill=\"black\" stroke=\"black\" points=\"1281.91,-76 1291.91,-72.5 1281.91,-69 1281.91,-76\"/>\n</g>\n<!-- 2489004447392+&#45;&gt;2489004447392 -->\n<g id=\"edge3\" class=\"edge\">\n<title>2489004447392+&#45;&gt;2489004447392</title>\n<path fill=\"none\" stroke=\"black\" d=\"M1035.04,-72.5C1042.58,-72.5 1051.3,-72.5 1060.57,-72.5\"/>\n<polygon fill=\"black\" stroke=\"black\" points=\"1060.81,-76 1070.81,-72.5 1060.81,-69 1060.81,-76\"/>\n</g>\n<!-- 2489005899440 -->\n<g id=\"node9\" class=\"node\">\n<title>2489005899440</title>\n<polygon fill=\"none\" stroke=\"black\" points=\"2,-110.5 2,-146.5 198,-146.5 198,-110.5 2,-110.5\"/>\n<text text-anchor=\"middle\" x=\"17\" y=\"-124.8\" font-family=\"Times New Roman,serif\" font-size=\"14.00\">x1</text>\n<polyline fill=\"none\" stroke=\"black\" points=\"32,-110.5 32,-146.5 \"/>\n<text text-anchor=\"middle\" x=\"72\" y=\"-124.8\" font-family=\"Times New Roman,serif\" font-size=\"14.00\">data 2.0000</text>\n<polyline fill=\"none\" stroke=\"black\" points=\"112,-110.5 112,-146.5 \"/>\n<text text-anchor=\"middle\" x=\"155\" y=\"-124.8\" font-family=\"Times New Roman,serif\" font-size=\"14.00\">grad &#45;1.5000</text>\n</g>\n<!-- 2489005899440&#45;&gt;2489005898192* -->\n<g id=\"edge6\" class=\"edge\">\n<title>2489005899440&#45;&gt;2489005898192*</title>\n<path fill=\"none\" stroke=\"black\" d=\"M198.37,-128.5C208.05,-128.5 217.4,-128.5 225.8,-128.5\"/>\n<polygon fill=\"black\" stroke=\"black\" points=\"225.91,-132 235.91,-128.5 225.91,-125 225.91,-132\"/>\n</g>\n<!-- 2489005896896 -->\n<g id=\"node10\" class=\"node\">\n<title>2489005896896</title>\n<polygon fill=\"none\" stroke=\"black\" points=\"2.5,-0.5 2.5,-36.5 197.5,-36.5 197.5,-0.5 2.5,-0.5\"/>\n<text text-anchor=\"middle\" x=\"19\" y=\"-14.8\" font-family=\"Times New Roman,serif\" font-size=\"14.00\">w2</text>\n<polyline fill=\"none\" stroke=\"black\" points=\"35.5,-0.5 35.5,-36.5 \"/>\n<text text-anchor=\"middle\" x=\"75.5\" y=\"-14.8\" font-family=\"Times New Roman,serif\" font-size=\"14.00\">data 1.0000</text>\n<polyline fill=\"none\" stroke=\"black\" points=\"115.5,-0.5 115.5,-36.5 \"/>\n<text text-anchor=\"middle\" x=\"156.5\" y=\"-14.8\" font-family=\"Times New Roman,serif\" font-size=\"14.00\">grad 0.0000</text>\n</g>\n<!-- 2489005896896&#45;&gt;2489004446960* -->\n<g id=\"edge8\" class=\"edge\">\n<title>2489005896896&#45;&gt;2489004446960*</title>\n<path fill=\"none\" stroke=\"black\" d=\"M169.28,-36.5C179.65,-39.61 190.16,-42.98 200,-46.5 210.28,-50.17 221.28,-54.74 231.11,-59.07\"/>\n<polygon fill=\"black\" stroke=\"black\" points=\"229.93,-62.37 240.48,-63.27 232.79,-55.99 229.93,-62.37\"/>\n</g>\n<!-- 2489004446960 -->\n<g id=\"node11\" class=\"node\">\n<title>2489004446960</title>\n<polygon fill=\"none\" stroke=\"black\" points=\"328.5,-55.5 328.5,-91.5 543.5,-91.5 543.5,-55.5 328.5,-55.5\"/>\n<text text-anchor=\"middle\" x=\"355\" y=\"-69.8\" font-family=\"Times New Roman,serif\" font-size=\"14.00\">x2*w2</text>\n<polyline fill=\"none\" stroke=\"black\" points=\"381.5,-55.5 381.5,-91.5 \"/>\n<text text-anchor=\"middle\" x=\"421.5\" y=\"-69.8\" font-family=\"Times New Roman,serif\" font-size=\"14.00\">data 0.0000</text>\n<polyline fill=\"none\" stroke=\"black\" points=\"461.5,-55.5 461.5,-91.5 \"/>\n<text text-anchor=\"middle\" x=\"502.5\" y=\"-69.8\" font-family=\"Times New Roman,serif\" font-size=\"14.00\">grad 0.5000</text>\n</g>\n<!-- 2489004446960&#45;&gt;2489004446288+ -->\n<g id=\"edge7\" class=\"edge\">\n<title>2489004446960&#45;&gt;2489004446288+</title>\n<path fill=\"none\" stroke=\"black\" d=\"M543.84,-90.37C554.01,-91.98 563.76,-93.51 572.44,-94.89\"/>\n<polygon fill=\"black\" stroke=\"black\" points=\"572.05,-98.37 582.47,-96.47 573.14,-91.45 572.05,-98.37\"/>\n</g>\n<!-- 2489004446960*&#45;&gt;2489004446960 -->\n<g id=\"edge4\" class=\"edge\">\n<title>2489004446960*&#45;&gt;2489004446960</title>\n<path fill=\"none\" stroke=\"black\" d=\"M290.34,-73.5C298.51,-73.5 308.08,-73.5 318.36,-73.5\"/>\n<polygon fill=\"black\" stroke=\"black\" points=\"318.39,-77 328.39,-73.5 318.39,-70 318.39,-77\"/>\n</g>\n<!-- 2489005898048 -->\n<g id=\"node13\" class=\"node\">\n<title>2489005898048</title>\n<polygon fill=\"none\" stroke=\"black\" points=\"716,-27.5 716,-63.5 901,-63.5 901,-27.5 716,-27.5\"/>\n<text text-anchor=\"middle\" x=\"727.5\" y=\"-41.8\" font-family=\"Times New Roman,serif\" font-size=\"14.00\">b</text>\n<polyline fill=\"none\" stroke=\"black\" points=\"739,-27.5 739,-63.5 \"/>\n<text text-anchor=\"middle\" x=\"779\" y=\"-41.8\" font-family=\"Times New Roman,serif\" font-size=\"14.00\">data 6.8814</text>\n<polyline fill=\"none\" stroke=\"black\" points=\"819,-27.5 819,-63.5 \"/>\n<text text-anchor=\"middle\" x=\"860\" y=\"-41.8\" font-family=\"Times New Roman,serif\" font-size=\"14.00\">grad 0.5000</text>\n</g>\n<!-- 2489005898048&#45;&gt;2489004447392+ -->\n<g id=\"edge9\" class=\"edge\">\n<title>2489005898048&#45;&gt;2489004447392+</title>\n<path fill=\"none\" stroke=\"black\" d=\"M901.02,-58.01C926,-61.43 951.59,-64.93 971.37,-67.63\"/>\n<polygon fill=\"black\" stroke=\"black\" points=\"971.05,-71.12 981.43,-69.01 972,-64.18 971.05,-71.12\"/>\n</g>\n<!-- 2489005898192 -->\n<g id=\"node14\" class=\"node\">\n<title>2489005898192</title>\n<polygon fill=\"none\" stroke=\"black\" points=\"326,-110.5 326,-146.5 546,-146.5 546,-110.5 326,-110.5\"/>\n<text text-anchor=\"middle\" x=\"352.5\" y=\"-124.8\" font-family=\"Times New Roman,serif\" font-size=\"14.00\">x1*w1</text>\n<polyline fill=\"none\" stroke=\"black\" points=\"379,-110.5 379,-146.5 \"/>\n<text text-anchor=\"middle\" x=\"421.5\" y=\"-124.8\" font-family=\"Times New Roman,serif\" font-size=\"14.00\">data &#45;6.0000</text>\n<polyline fill=\"none\" stroke=\"black\" points=\"464,-110.5 464,-146.5 \"/>\n<text text-anchor=\"middle\" x=\"505\" y=\"-124.8\" font-family=\"Times New Roman,serif\" font-size=\"14.00\">grad 0.5000</text>\n</g>\n<!-- 2489005898192&#45;&gt;2489004446288+ -->\n<g id=\"edge10\" class=\"edge\">\n<title>2489005898192&#45;&gt;2489004446288+</title>\n<path fill=\"none\" stroke=\"black\" d=\"M546.27,-110.61C555.64,-109.07 564.6,-107.61 572.65,-106.29\"/>\n<polygon fill=\"black\" stroke=\"black\" points=\"573.35,-109.72 582.65,-104.65 572.22,-102.81 573.35,-109.72\"/>\n</g>\n<!-- 2489005898192*&#45;&gt;2489005898192 -->\n<g id=\"edge5\" class=\"edge\">\n<title>2489005898192*&#45;&gt;2489005898192</title>\n<path fill=\"none\" stroke=\"black\" d=\"M290.34,-128.5C297.77,-128.5 306.37,-128.5 315.6,-128.5\"/>\n<polygon fill=\"black\" stroke=\"black\" points=\"315.84,-132 325.84,-128.5 315.84,-125 315.84,-132\"/>\n</g>\n</g>\n</svg>\n",
      "text/plain": [
       "<graphviz.graphs.Digraph at 0x2438439de80>"
      ]
     },
     "execution_count": 11,
     "metadata": {},
     "output_type": "execute_result"
    }
   ],
   "source": [
    "draw_dot(o)"
   ]
  },
  {
   "cell_type": "code",
   "execution_count": 12,
   "metadata": {},
   "outputs": [
    {
     "data": {
      "image/svg+xml": "<?xml version=\"1.0\" encoding=\"UTF-8\" standalone=\"no\"?>\n<!DOCTYPE svg PUBLIC \"-//W3C//DTD SVG 1.1//EN\"\n \"http://www.w3.org/Graphics/SVG/1.1/DTD/svg11.dtd\">\n<!-- Generated by graphviz version 2.50.0 (0)\n -->\n<!-- Pages: 1 -->\n<svg width=\"2944pt\" height=\"239pt\"\n viewBox=\"0.00 0.00 2944.00 239.00\" xmlns=\"http://www.w3.org/2000/svg\" xmlns:xlink=\"http://www.w3.org/1999/xlink\">\n<g id=\"graph0\" class=\"graph\" transform=\"scale(1 1) rotate(0) translate(4 235)\">\n<polygon fill=\"white\" stroke=\"transparent\" points=\"-4,4 -4,-235 2940,-235 2940,4 -4,4\"/>\n<!-- 2489005975056 -->\n<g id=\"node1\" class=\"node\">\n<title>2489005975056</title>\n<polygon fill=\"none\" stroke=\"black\" points=\"1382,-55.5 1382,-91.5 1564,-91.5 1564,-55.5 1382,-55.5\"/>\n<text text-anchor=\"middle\" x=\"1392\" y=\"-69.8\" font-family=\"Times New Roman,serif\" font-size=\"14.00\"> </text>\n<polyline fill=\"none\" stroke=\"black\" points=\"1402,-55.5 1402,-91.5 \"/>\n<text text-anchor=\"middle\" x=\"1442\" y=\"-69.8\" font-family=\"Times New Roman,serif\" font-size=\"14.00\">data 1.7627</text>\n<polyline fill=\"none\" stroke=\"black\" points=\"1482,-55.5 1482,-91.5 \"/>\n<text text-anchor=\"middle\" x=\"1523\" y=\"-69.8\" font-family=\"Times New Roman,serif\" font-size=\"14.00\">grad 0.2500</text>\n</g>\n<!-- 2489005974864exp -->\n<g id=\"node22\" class=\"node\">\n<title>2489005974864exp</title>\n<ellipse fill=\"none\" stroke=\"black\" cx=\"1627\" cy=\"-73.5\" rx=\"27\" ry=\"18\"/>\n<text text-anchor=\"middle\" x=\"1627\" y=\"-69.8\" font-family=\"Times New Roman,serif\" font-size=\"14.00\">exp</text>\n</g>\n<!-- 2489005975056&#45;&gt;2489005974864exp -->\n<g id=\"edge28\" class=\"edge\">\n<title>2489005975056&#45;&gt;2489005974864exp</title>\n<path fill=\"none\" stroke=\"black\" d=\"M1564.18,-73.5C1573.14,-73.5 1581.83,-73.5 1589.73,-73.5\"/>\n<polygon fill=\"black\" stroke=\"black\" points=\"1589.96,-77 1599.96,-73.5 1589.96,-70 1589.96,-77\"/>\n</g>\n<!-- 2489005975056* -->\n<g id=\"node2\" class=\"node\">\n<title>2489005975056*</title>\n<ellipse fill=\"none\" stroke=\"black\" cx=\"1319\" cy=\"-73.5\" rx=\"27\" ry=\"18\"/>\n<text text-anchor=\"middle\" x=\"1319\" y=\"-69.8\" font-family=\"Times New Roman,serif\" font-size=\"14.00\">*</text>\n</g>\n<!-- 2489005975056*&#45;&gt;2489005975056 -->\n<g id=\"edge1\" class=\"edge\">\n<title>2489005975056*&#45;&gt;2489005975056</title>\n<path fill=\"none\" stroke=\"black\" d=\"M1346.13,-73.5C1353.67,-73.5 1362.39,-73.5 1371.64,-73.5\"/>\n<polygon fill=\"black\" stroke=\"black\" points=\"1371.87,-77 1381.87,-73.5 1371.87,-70 1371.87,-77\"/>\n</g>\n<!-- 2489005856800 -->\n<g id=\"node3\" class=\"node\">\n<title>2489005856800</title>\n<polygon fill=\"none\" stroke=\"black\" points=\"2751,-54.5 2751,-90.5 2936,-90.5 2936,-54.5 2751,-54.5\"/>\n<text text-anchor=\"middle\" x=\"2762.5\" y=\"-68.8\" font-family=\"Times New Roman,serif\" font-size=\"14.00\">o</text>\n<polyline fill=\"none\" stroke=\"black\" points=\"2774,-54.5 2774,-90.5 \"/>\n<text text-anchor=\"middle\" x=\"2814\" y=\"-68.8\" font-family=\"Times New Roman,serif\" font-size=\"14.00\">data 0.7071</text>\n<polyline fill=\"none\" stroke=\"black\" points=\"2854,-54.5 2854,-90.5 \"/>\n<text text-anchor=\"middle\" x=\"2895\" y=\"-68.8\" font-family=\"Times New Roman,serif\" font-size=\"14.00\">grad 1.0000</text>\n</g>\n<!-- 2489005856800* -->\n<g id=\"node4\" class=\"node\">\n<title>2489005856800*</title>\n<ellipse fill=\"none\" stroke=\"black\" cx=\"2688\" cy=\"-72.5\" rx=\"27\" ry=\"18\"/>\n<text text-anchor=\"middle\" x=\"2688\" y=\"-68.8\" font-family=\"Times New Roman,serif\" font-size=\"14.00\">*</text>\n</g>\n<!-- 2489005856800*&#45;&gt;2489005856800 -->\n<g id=\"edge2\" class=\"edge\">\n<title>2489005856800*&#45;&gt;2489005856800</title>\n<path fill=\"none\" stroke=\"black\" d=\"M2715.04,-72.5C2722.58,-72.5 2731.3,-72.5 2740.57,-72.5\"/>\n<polygon fill=\"black\" stroke=\"black\" points=\"2740.81,-76 2750.81,-72.5 2740.81,-69 2740.81,-76\"/>\n</g>\n<!-- 2489005974624 -->\n<g id=\"node5\" class=\"node\">\n<title>2489005974624</title>\n<polygon fill=\"none\" stroke=\"black\" points=\"328.5,-139.5 328.5,-175.5 543.5,-175.5 543.5,-139.5 328.5,-139.5\"/>\n<text text-anchor=\"middle\" x=\"355\" y=\"-153.8\" font-family=\"Times New Roman,serif\" font-size=\"14.00\">x2*w2</text>\n<polyline fill=\"none\" stroke=\"black\" points=\"381.5,-139.5 381.5,-175.5 \"/>\n<text text-anchor=\"middle\" x=\"421.5\" y=\"-153.8\" font-family=\"Times New Roman,serif\" font-size=\"14.00\">data 0.0000</text>\n<polyline fill=\"none\" stroke=\"black\" points=\"461.5,-139.5 461.5,-175.5 \"/>\n<text text-anchor=\"middle\" x=\"502.5\" y=\"-153.8\" font-family=\"Times New Roman,serif\" font-size=\"14.00\">grad 0.5000</text>\n</g>\n<!-- 2489005976400+ -->\n<g id=\"node24\" class=\"node\">\n<title>2489005976400+</title>\n<ellipse fill=\"none\" stroke=\"black\" cx=\"609\" cy=\"-129.5\" rx=\"27\" ry=\"18\"/>\n<text text-anchor=\"middle\" x=\"609\" y=\"-125.8\" font-family=\"Times New Roman,serif\" font-size=\"14.00\">+</text>\n</g>\n<!-- 2489005974624&#45;&gt;2489005976400+ -->\n<g id=\"edge11\" class=\"edge\">\n<title>2489005974624&#45;&gt;2489005976400+</title>\n<path fill=\"none\" stroke=\"black\" d=\"M543.84,-140.01C554.01,-138.34 563.76,-136.74 572.44,-135.32\"/>\n<polygon fill=\"black\" stroke=\"black\" points=\"573.17,-138.75 582.47,-133.68 572.04,-131.84 573.17,-138.75\"/>\n</g>\n<!-- 2489005974624* -->\n<g id=\"node6\" class=\"node\">\n<title>2489005974624*</title>\n<ellipse fill=\"none\" stroke=\"black\" cx=\"263\" cy=\"-157.5\" rx=\"27\" ry=\"18\"/>\n<text text-anchor=\"middle\" x=\"263\" y=\"-153.8\" font-family=\"Times New Roman,serif\" font-size=\"14.00\">*</text>\n</g>\n<!-- 2489005974624*&#45;&gt;2489005974624 -->\n<g id=\"edge3\" class=\"edge\">\n<title>2489005974624*&#45;&gt;2489005974624</title>\n<path fill=\"none\" stroke=\"black\" d=\"M290.34,-157.5C298.51,-157.5 308.08,-157.5 318.36,-157.5\"/>\n<polygon fill=\"black\" stroke=\"black\" points=\"318.39,-161 328.39,-157.5 318.39,-154 318.39,-161\"/>\n</g>\n<!-- 2489007455344 -->\n<g id=\"node7\" class=\"node\">\n<title>2489007455344</title>\n<polygon fill=\"none\" stroke=\"black\" points=\"0,-84.5 0,-120.5 200,-120.5 200,-84.5 0,-84.5\"/>\n<text text-anchor=\"middle\" x=\"16.5\" y=\"-98.8\" font-family=\"Times New Roman,serif\" font-size=\"14.00\">w1</text>\n<polyline fill=\"none\" stroke=\"black\" points=\"33,-84.5 33,-120.5 \"/>\n<text text-anchor=\"middle\" x=\"75.5\" y=\"-98.8\" font-family=\"Times New Roman,serif\" font-size=\"14.00\">data &#45;3.0000</text>\n<polyline fill=\"none\" stroke=\"black\" points=\"118,-84.5 118,-120.5 \"/>\n<text text-anchor=\"middle\" x=\"159\" y=\"-98.8\" font-family=\"Times New Roman,serif\" font-size=\"14.00\">grad 1.0000</text>\n</g>\n<!-- 2489005974720* -->\n<g id=\"node12\" class=\"node\">\n<title>2489005974720*</title>\n<ellipse fill=\"none\" stroke=\"black\" cx=\"263\" cy=\"-102.5\" rx=\"27\" ry=\"18\"/>\n<text text-anchor=\"middle\" x=\"263\" y=\"-98.8\" font-family=\"Times New Roman,serif\" font-size=\"14.00\">*</text>\n</g>\n<!-- 2489007455344&#45;&gt;2489005974720* -->\n<g id=\"edge25\" class=\"edge\">\n<title>2489007455344&#45;&gt;2489005974720*</title>\n<path fill=\"none\" stroke=\"black\" d=\"M200.21,-102.5C209.2,-102.5 217.86,-102.5 225.7,-102.5\"/>\n<polygon fill=\"black\" stroke=\"black\" points=\"225.85,-106 235.85,-102.5 225.85,-99 225.85,-106\"/>\n</g>\n<!-- 2489005973616 -->\n<g id=\"node8\" class=\"node\">\n<title>2489005973616</title>\n<polygon fill=\"none\" stroke=\"black\" points=\"2225,-27.5 2225,-63.5 2407,-63.5 2407,-27.5 2225,-27.5\"/>\n<text text-anchor=\"middle\" x=\"2235\" y=\"-41.8\" font-family=\"Times New Roman,serif\" font-size=\"14.00\"> </text>\n<polyline fill=\"none\" stroke=\"black\" points=\"2245,-27.5 2245,-63.5 \"/>\n<text text-anchor=\"middle\" x=\"2285\" y=\"-41.8\" font-family=\"Times New Roman,serif\" font-size=\"14.00\">data 4.8284</text>\n<polyline fill=\"none\" stroke=\"black\" points=\"2325,-27.5 2325,-63.5 \"/>\n<text text-anchor=\"middle\" x=\"2366\" y=\"-41.8\" font-family=\"Times New Roman,serif\" font-size=\"14.00\">grad 0.1464</text>\n</g>\n<!-- 2489005973616&#45;&gt;2489005856800* -->\n<g id=\"edge17\" class=\"edge\">\n<title>2489005973616&#45;&gt;2489005856800*</title>\n<path fill=\"none\" stroke=\"black\" d=\"M2407.04,-52.07C2485.41,-57.79 2594.98,-65.79 2650.96,-69.87\"/>\n<polygon fill=\"black\" stroke=\"black\" points=\"2650.87,-73.37 2661.1,-70.61 2651.38,-66.39 2650.87,-73.37\"/>\n</g>\n<!-- 2489005973616+ -->\n<g id=\"node9\" class=\"node\">\n<title>2489005973616+</title>\n<ellipse fill=\"none\" stroke=\"black\" cx=\"1940\" cy=\"-45.5\" rx=\"27\" ry=\"18\"/>\n<text text-anchor=\"middle\" x=\"1940\" y=\"-41.8\" font-family=\"Times New Roman,serif\" font-size=\"14.00\">+</text>\n</g>\n<!-- 2489005973616+&#45;&gt;2489005973616 -->\n<g id=\"edge4\" class=\"edge\">\n<title>2489005973616+&#45;&gt;2489005973616</title>\n<path fill=\"none\" stroke=\"black\" d=\"M1967,-45.5C2017.46,-45.5 2131.06,-45.5 2214.81,-45.5\"/>\n<polygon fill=\"black\" stroke=\"black\" points=\"2214.87,-49 2224.87,-45.5 2214.87,-42 2214.87,-49\"/>\n</g>\n<!-- 2489004160144 -->\n<g id=\"node10\" class=\"node\">\n<title>2489004160144</title>\n<polygon fill=\"none\" stroke=\"black\" points=\"4,-194.5 4,-230.5 196,-230.5 196,-194.5 4,-194.5\"/>\n<text text-anchor=\"middle\" x=\"19\" y=\"-208.8\" font-family=\"Times New Roman,serif\" font-size=\"14.00\">x2</text>\n<polyline fill=\"none\" stroke=\"black\" points=\"34,-194.5 34,-230.5 \"/>\n<text text-anchor=\"middle\" x=\"74\" y=\"-208.8\" font-family=\"Times New Roman,serif\" font-size=\"14.00\">data 0.0000</text>\n<polyline fill=\"none\" stroke=\"black\" points=\"114,-194.5 114,-230.5 \"/>\n<text text-anchor=\"middle\" x=\"155\" y=\"-208.8\" font-family=\"Times New Roman,serif\" font-size=\"14.00\">grad 0.5000</text>\n</g>\n<!-- 2489004160144&#45;&gt;2489005974624* -->\n<g id=\"edge26\" class=\"edge\">\n<title>2489004160144&#45;&gt;2489005974624*</title>\n<path fill=\"none\" stroke=\"black\" d=\"M172.53,-194.44C181.84,-191.67 191.2,-188.67 200,-185.5 210.53,-181.71 221.75,-176.9 231.72,-172.33\"/>\n<polygon fill=\"black\" stroke=\"black\" points=\"233.25,-175.48 240.82,-168.07 230.28,-169.14 233.25,-175.48\"/>\n</g>\n<!-- 2489005974720 -->\n<g id=\"node11\" class=\"node\">\n<title>2489005974720</title>\n<polygon fill=\"none\" stroke=\"black\" points=\"326,-84.5 326,-120.5 546,-120.5 546,-84.5 326,-84.5\"/>\n<text text-anchor=\"middle\" x=\"352.5\" y=\"-98.8\" font-family=\"Times New Roman,serif\" font-size=\"14.00\">x1*w1</text>\n<polyline fill=\"none\" stroke=\"black\" points=\"379,-84.5 379,-120.5 \"/>\n<text text-anchor=\"middle\" x=\"421.5\" y=\"-98.8\" font-family=\"Times New Roman,serif\" font-size=\"14.00\">data &#45;6.0000</text>\n<polyline fill=\"none\" stroke=\"black\" points=\"464,-84.5 464,-120.5 \"/>\n<text text-anchor=\"middle\" x=\"505\" y=\"-98.8\" font-family=\"Times New Roman,serif\" font-size=\"14.00\">grad 0.5000</text>\n</g>\n<!-- 2489005974720&#45;&gt;2489005976400+ -->\n<g id=\"edge12\" class=\"edge\">\n<title>2489005974720&#45;&gt;2489005976400+</title>\n<path fill=\"none\" stroke=\"black\" d=\"M546.27,-119.75C555.64,-121.23 564.6,-122.65 572.65,-123.92\"/>\n<polygon fill=\"black\" stroke=\"black\" points=\"572.23,-127.4 582.65,-125.5 573.32,-120.48 572.23,-127.4\"/>\n</g>\n<!-- 2489005974720*&#45;&gt;2489005974720 -->\n<g id=\"edge5\" class=\"edge\">\n<title>2489005974720*&#45;&gt;2489005974720</title>\n<path fill=\"none\" stroke=\"black\" d=\"M290.34,-102.5C297.77,-102.5 306.37,-102.5 315.6,-102.5\"/>\n<polygon fill=\"black\" stroke=\"black\" points=\"315.84,-106 325.84,-102.5 315.84,-99 315.84,-106\"/>\n</g>\n<!-- 2489007982336 -->\n<g id=\"node13\" class=\"node\">\n<title>2489007982336</title>\n<polygon fill=\"none\" stroke=\"black\" points=\"2443,-80.5 2443,-116.5 2625,-116.5 2625,-80.5 2443,-80.5\"/>\n<text text-anchor=\"middle\" x=\"2453\" y=\"-94.8\" font-family=\"Times New Roman,serif\" font-size=\"14.00\"> </text>\n<polyline fill=\"none\" stroke=\"black\" points=\"2463,-80.5 2463,-116.5 \"/>\n<text text-anchor=\"middle\" x=\"2503\" y=\"-94.8\" font-family=\"Times New Roman,serif\" font-size=\"14.00\">data 0.1464</text>\n<polyline fill=\"none\" stroke=\"black\" points=\"2543,-80.5 2543,-116.5 \"/>\n<text text-anchor=\"middle\" x=\"2584\" y=\"-94.8\" font-family=\"Times New Roman,serif\" font-size=\"14.00\">grad 4.8284</text>\n</g>\n<!-- 2489007982336&#45;&gt;2489005856800* -->\n<g id=\"edge18\" class=\"edge\">\n<title>2489007982336&#45;&gt;2489005856800*</title>\n<path fill=\"none\" stroke=\"black\" d=\"M2625.18,-83.08C2634.42,-81.49 2643.38,-79.96 2651.47,-78.58\"/>\n<polygon fill=\"black\" stroke=\"black\" points=\"2652.29,-81.99 2661.56,-76.85 2651.11,-75.09 2652.29,-81.99\"/>\n</g>\n<!-- 2489007982336**&#45;1 -->\n<g id=\"node14\" class=\"node\">\n<title>2489007982336**&#45;1</title>\n<ellipse fill=\"none\" stroke=\"black\" cx=\"2316\" cy=\"-100.5\" rx=\"27\" ry=\"18\"/>\n<text text-anchor=\"middle\" x=\"2316\" y=\"-96.8\" font-family=\"Times New Roman,serif\" font-size=\"14.00\">**&#45;1</text>\n</g>\n<!-- 2489007982336**&#45;1&#45;&gt;2489007982336 -->\n<g id=\"edge6\" class=\"edge\">\n<title>2489007982336**&#45;1&#45;&gt;2489007982336</title>\n<path fill=\"none\" stroke=\"black\" d=\"M2343.05,-100.26C2365.53,-100.05 2399.48,-99.74 2432.5,-99.43\"/>\n<polygon fill=\"black\" stroke=\"black\" points=\"2432.74,-102.93 2442.7,-99.34 2432.67,-95.93 2432.74,-102.93\"/>\n</g>\n<!-- 2489007360272 -->\n<g id=\"node15\" class=\"node\">\n<title>2489007360272</title>\n<polygon fill=\"none\" stroke=\"black\" points=\"2003,-82.5 2003,-118.5 2189,-118.5 2189,-82.5 2003,-82.5\"/>\n<text text-anchor=\"middle\" x=\"2013\" y=\"-96.8\" font-family=\"Times New Roman,serif\" font-size=\"14.00\"> </text>\n<polyline fill=\"none\" stroke=\"black\" points=\"2023,-82.5 2023,-118.5 \"/>\n<text text-anchor=\"middle\" x=\"2063\" y=\"-96.8\" font-family=\"Times New Roman,serif\" font-size=\"14.00\">data 6.8284</text>\n<polyline fill=\"none\" stroke=\"black\" points=\"2103,-82.5 2103,-118.5 \"/>\n<text text-anchor=\"middle\" x=\"2146\" y=\"-96.8\" font-family=\"Times New Roman,serif\" font-size=\"14.00\">grad &#45;0.1036</text>\n</g>\n<!-- 2489007360272&#45;&gt;2489007982336**&#45;1 -->\n<g id=\"edge16\" class=\"edge\">\n<title>2489007360272&#45;&gt;2489007982336**&#45;1</title>\n<path fill=\"none\" stroke=\"black\" d=\"M2189.14,-100.5C2220.72,-100.5 2254.24,-100.5 2278.74,-100.5\"/>\n<polygon fill=\"black\" stroke=\"black\" points=\"2278.98,-104 2288.98,-100.5 2278.98,-97 2278.98,-104\"/>\n</g>\n<!-- 2489007360272+ -->\n<g id=\"node16\" class=\"node\">\n<title>2489007360272+</title>\n<ellipse fill=\"none\" stroke=\"black\" cx=\"1940\" cy=\"-100.5\" rx=\"27\" ry=\"18\"/>\n<text text-anchor=\"middle\" x=\"1940\" y=\"-96.8\" font-family=\"Times New Roman,serif\" font-size=\"14.00\">+</text>\n</g>\n<!-- 2489007360272+&#45;&gt;2489007360272 -->\n<g id=\"edge7\" class=\"edge\">\n<title>2489007360272+&#45;&gt;2489007360272</title>\n<path fill=\"none\" stroke=\"black\" d=\"M1967.12,-100.5C1974.62,-100.5 1983.29,-100.5 1992.5,-100.5\"/>\n<polygon fill=\"black\" stroke=\"black\" points=\"1992.69,-104 2002.69,-100.5 1992.69,-97 1992.69,-104\"/>\n</g>\n<!-- 2489005974288 -->\n<g id=\"node17\" class=\"node\">\n<title>2489005974288</title>\n<polygon fill=\"none\" stroke=\"black\" points=\"1690.5,-110.5 1690.5,-146.5 1876.5,-146.5 1876.5,-110.5 1690.5,-110.5\"/>\n<text text-anchor=\"middle\" x=\"1700.5\" y=\"-124.8\" font-family=\"Times New Roman,serif\" font-size=\"14.00\"> </text>\n<polyline fill=\"none\" stroke=\"black\" points=\"1710.5,-110.5 1710.5,-146.5 \"/>\n<text text-anchor=\"middle\" x=\"1750.5\" y=\"-124.8\" font-family=\"Times New Roman,serif\" font-size=\"14.00\">data 1.0000</text>\n<polyline fill=\"none\" stroke=\"black\" points=\"1790.5,-110.5 1790.5,-146.5 \"/>\n<text text-anchor=\"middle\" x=\"1833.5\" y=\"-124.8\" font-family=\"Times New Roman,serif\" font-size=\"14.00\">grad &#45;0.1036</text>\n</g>\n<!-- 2489005974288&#45;&gt;2489007360272+ -->\n<g id=\"edge27\" class=\"edge\">\n<title>2489005974288&#45;&gt;2489007360272+</title>\n<path fill=\"none\" stroke=\"black\" d=\"M1876.6,-111.81C1886.15,-110.08 1895.37,-108.41 1903.68,-106.9\"/>\n<polygon fill=\"black\" stroke=\"black\" points=\"1904.43,-110.32 1913.65,-105.09 1903.18,-103.43 1904.43,-110.32\"/>\n</g>\n<!-- 2489005976832 -->\n<g id=\"node18\" class=\"node\">\n<title>2489005976832</title>\n<polygon fill=\"none\" stroke=\"black\" points=\"1071,-83.5 1071,-119.5 1256,-119.5 1256,-83.5 1071,-83.5\"/>\n<text text-anchor=\"middle\" x=\"1082.5\" y=\"-97.8\" font-family=\"Times New Roman,serif\" font-size=\"14.00\">n</text>\n<polyline fill=\"none\" stroke=\"black\" points=\"1094,-83.5 1094,-119.5 \"/>\n<text text-anchor=\"middle\" x=\"1134\" y=\"-97.8\" font-family=\"Times New Roman,serif\" font-size=\"14.00\">data 0.8814</text>\n<polyline fill=\"none\" stroke=\"black\" points=\"1174,-83.5 1174,-119.5 \"/>\n<text text-anchor=\"middle\" x=\"1215\" y=\"-97.8\" font-family=\"Times New Roman,serif\" font-size=\"14.00\">grad 0.5000</text>\n</g>\n<!-- 2489005976832&#45;&gt;2489005975056* -->\n<g id=\"edge15\" class=\"edge\">\n<title>2489005976832&#45;&gt;2489005975056*</title>\n<path fill=\"none\" stroke=\"black\" d=\"M1256.01,-84.81C1265.49,-83.08 1274.66,-81.41 1282.9,-79.9\"/>\n<polygon fill=\"black\" stroke=\"black\" points=\"1283.6,-83.33 1292.81,-78.09 1282.35,-76.45 1283.6,-83.33\"/>\n</g>\n<!-- 2489005976832+ -->\n<g id=\"node19\" class=\"node\">\n<title>2489005976832+</title>\n<ellipse fill=\"none\" stroke=\"black\" cx=\"1008\" cy=\"-101.5\" rx=\"27\" ry=\"18\"/>\n<text text-anchor=\"middle\" x=\"1008\" y=\"-97.8\" font-family=\"Times New Roman,serif\" font-size=\"14.00\">+</text>\n</g>\n<!-- 2489005976832+&#45;&gt;2489005976832 -->\n<g id=\"edge8\" class=\"edge\">\n<title>2489005976832+&#45;&gt;2489005976832</title>\n<path fill=\"none\" stroke=\"black\" d=\"M1035.04,-101.5C1042.58,-101.5 1051.3,-101.5 1060.57,-101.5\"/>\n<polygon fill=\"black\" stroke=\"black\" points=\"1060.81,-105 1070.81,-101.5 1060.81,-98 1060.81,-105\"/>\n</g>\n<!-- 2489005977408 -->\n<g id=\"node20\" class=\"node\">\n<title>2489005977408</title>\n<polygon fill=\"none\" stroke=\"black\" points=\"1690,-0.5 1690,-36.5 1877,-36.5 1877,-0.5 1690,-0.5\"/>\n<text text-anchor=\"middle\" x=\"1700\" y=\"-14.8\" font-family=\"Times New Roman,serif\" font-size=\"14.00\"> </text>\n<polyline fill=\"none\" stroke=\"black\" points=\"1710,-0.5 1710,-36.5 \"/>\n<text text-anchor=\"middle\" x=\"1752.5\" y=\"-14.8\" font-family=\"Times New Roman,serif\" font-size=\"14.00\">data &#45;1.0000</text>\n<polyline fill=\"none\" stroke=\"black\" points=\"1795,-0.5 1795,-36.5 \"/>\n<text text-anchor=\"middle\" x=\"1836\" y=\"-14.8\" font-family=\"Times New Roman,serif\" font-size=\"14.00\">grad 0.1464</text>\n</g>\n<!-- 2489005977408&#45;&gt;2489005973616+ -->\n<g id=\"edge13\" class=\"edge\">\n<title>2489005977408&#45;&gt;2489005973616+</title>\n<path fill=\"none\" stroke=\"black\" d=\"M1877.05,-34.67C1886.34,-36.3 1895.33,-37.87 1903.44,-39.29\"/>\n<polygon fill=\"black\" stroke=\"black\" points=\"1903.1,-42.78 1913.55,-41.05 1904.3,-35.88 1903.1,-42.78\"/>\n</g>\n<!-- 2489005974864 -->\n<g id=\"node21\" class=\"node\">\n<title>2489005974864</title>\n<polygon fill=\"none\" stroke=\"black\" points=\"1692.5,-55.5 1692.5,-91.5 1874.5,-91.5 1874.5,-55.5 1692.5,-55.5\"/>\n<text text-anchor=\"middle\" x=\"1702.5\" y=\"-69.8\" font-family=\"Times New Roman,serif\" font-size=\"14.00\"> </text>\n<polyline fill=\"none\" stroke=\"black\" points=\"1712.5,-55.5 1712.5,-91.5 \"/>\n<text text-anchor=\"middle\" x=\"1752.5\" y=\"-69.8\" font-family=\"Times New Roman,serif\" font-size=\"14.00\">data 5.8284</text>\n<polyline fill=\"none\" stroke=\"black\" points=\"1792.5,-55.5 1792.5,-91.5 \"/>\n<text text-anchor=\"middle\" x=\"1833.5\" y=\"-69.8\" font-family=\"Times New Roman,serif\" font-size=\"14.00\">grad 0.0429</text>\n</g>\n<!-- 2489005974864&#45;&gt;2489005973616+ -->\n<g id=\"edge14\" class=\"edge\">\n<title>2489005974864&#45;&gt;2489005973616+</title>\n<path fill=\"none\" stroke=\"black\" d=\"M1874.82,-57.13C1885.07,-55.27 1895.01,-53.47 1903.88,-51.87\"/>\n<polygon fill=\"black\" stroke=\"black\" points=\"1904.54,-55.3 1913.75,-50.08 1903.29,-48.42 1904.54,-55.3\"/>\n</g>\n<!-- 2489005974864&#45;&gt;2489007360272+ -->\n<g id=\"edge22\" class=\"edge\">\n<title>2489005974864&#45;&gt;2489007360272+</title>\n<path fill=\"none\" stroke=\"black\" d=\"M1874.82,-89.28C1885.07,-91.08 1895.01,-92.81 1903.88,-94.36\"/>\n<polygon fill=\"black\" stroke=\"black\" points=\"1903.3,-97.81 1913.75,-96.09 1904.5,-90.92 1903.3,-97.81\"/>\n</g>\n<!-- 2489005974864exp&#45;&gt;2489005974864 -->\n<g id=\"edge9\" class=\"edge\">\n<title>2489005974864exp&#45;&gt;2489005974864</title>\n<path fill=\"none\" stroke=\"black\" d=\"M1654.21,-73.5C1662.34,-73.5 1671.85,-73.5 1681.94,-73.5\"/>\n<polygon fill=\"black\" stroke=\"black\" points=\"1682.19,-77 1692.19,-73.5 1682.19,-70 1682.19,-77\"/>\n</g>\n<!-- 2489005976400 -->\n<g id=\"node23\" class=\"node\">\n<title>2489005976400</title>\n<polygon fill=\"none\" stroke=\"black\" points=\"672,-111.5 672,-147.5 945,-147.5 945,-111.5 672,-111.5\"/>\n<text text-anchor=\"middle\" x=\"725\" y=\"-125.8\" font-family=\"Times New Roman,serif\" font-size=\"14.00\">x1*w1 + x2*w2</text>\n<polyline fill=\"none\" stroke=\"black\" points=\"778,-111.5 778,-147.5 \"/>\n<text text-anchor=\"middle\" x=\"820.5\" y=\"-125.8\" font-family=\"Times New Roman,serif\" font-size=\"14.00\">data &#45;6.0000</text>\n<polyline fill=\"none\" stroke=\"black\" points=\"863,-111.5 863,-147.5 \"/>\n<text text-anchor=\"middle\" x=\"904\" y=\"-125.8\" font-family=\"Times New Roman,serif\" font-size=\"14.00\">grad 0.5000</text>\n</g>\n<!-- 2489005976400&#45;&gt;2489005976832+ -->\n<g id=\"edge20\" class=\"edge\">\n<title>2489005976400&#45;&gt;2489005976832+</title>\n<path fill=\"none\" stroke=\"black\" d=\"M936.53,-111.49C949.09,-109.71 960.99,-108.02 971.3,-106.56\"/>\n<polygon fill=\"black\" stroke=\"black\" points=\"972.03,-109.99 981.44,-105.12 971.05,-103.06 972.03,-109.99\"/>\n</g>\n<!-- 2489005976400+&#45;&gt;2489005976400 -->\n<g id=\"edge10\" class=\"edge\">\n<title>2489005976400+&#45;&gt;2489005976400</title>\n<path fill=\"none\" stroke=\"black\" d=\"M636.23,-129.5C643.7,-129.5 652.41,-129.5 661.87,-129.5\"/>\n<polygon fill=\"black\" stroke=\"black\" points=\"661.98,-133 671.98,-129.5 661.98,-126 661.98,-133\"/>\n</g>\n<!-- 2489007452560 -->\n<g id=\"node25\" class=\"node\">\n<title>2489007452560</title>\n<polygon fill=\"none\" stroke=\"black\" points=\"2.5,-139.5 2.5,-175.5 197.5,-175.5 197.5,-139.5 2.5,-139.5\"/>\n<text text-anchor=\"middle\" x=\"19\" y=\"-153.8\" font-family=\"Times New Roman,serif\" font-size=\"14.00\">w2</text>\n<polyline fill=\"none\" stroke=\"black\" points=\"35.5,-139.5 35.5,-175.5 \"/>\n<text text-anchor=\"middle\" x=\"75.5\" y=\"-153.8\" font-family=\"Times New Roman,serif\" font-size=\"14.00\">data 1.0000</text>\n<polyline fill=\"none\" stroke=\"black\" points=\"115.5,-139.5 115.5,-175.5 \"/>\n<text text-anchor=\"middle\" x=\"156.5\" y=\"-153.8\" font-family=\"Times New Roman,serif\" font-size=\"14.00\">grad 0.0000</text>\n</g>\n<!-- 2489007452560&#45;&gt;2489005974624* -->\n<g id=\"edge21\" class=\"edge\">\n<title>2489007452560&#45;&gt;2489005974624*</title>\n<path fill=\"none\" stroke=\"black\" d=\"M197.91,-157.5C207.65,-157.5 217.05,-157.5 225.52,-157.5\"/>\n<polygon fill=\"black\" stroke=\"black\" points=\"225.7,-161 235.7,-157.5 225.7,-154 225.7,-161\"/>\n</g>\n<!-- 2489007456160 -->\n<g id=\"node26\" class=\"node\">\n<title>2489007456160</title>\n<polygon fill=\"none\" stroke=\"black\" points=\"716,-56.5 716,-92.5 901,-92.5 901,-56.5 716,-56.5\"/>\n<text text-anchor=\"middle\" x=\"727.5\" y=\"-70.8\" font-family=\"Times New Roman,serif\" font-size=\"14.00\">b</text>\n<polyline fill=\"none\" stroke=\"black\" points=\"739,-56.5 739,-92.5 \"/>\n<text text-anchor=\"middle\" x=\"779\" y=\"-70.8\" font-family=\"Times New Roman,serif\" font-size=\"14.00\">data 6.8814</text>\n<polyline fill=\"none\" stroke=\"black\" points=\"819,-56.5 819,-92.5 \"/>\n<text text-anchor=\"middle\" x=\"860\" y=\"-70.8\" font-family=\"Times New Roman,serif\" font-size=\"14.00\">grad 0.5000</text>\n</g>\n<!-- 2489007456160&#45;&gt;2489005976832+ -->\n<g id=\"edge23\" class=\"edge\">\n<title>2489007456160&#45;&gt;2489005976832+</title>\n<path fill=\"none\" stroke=\"black\" d=\"M901.02,-87.01C926,-90.43 951.59,-93.93 971.37,-96.63\"/>\n<polygon fill=\"black\" stroke=\"black\" points=\"971.05,-100.12 981.43,-98.01 972,-93.18 971.05,-100.12\"/>\n</g>\n<!-- 2489005977024 -->\n<g id=\"node27\" class=\"node\">\n<title>2489005977024</title>\n<polygon fill=\"none\" stroke=\"black\" points=\"1072.5,-28.5 1072.5,-64.5 1254.5,-64.5 1254.5,-28.5 1072.5,-28.5\"/>\n<text text-anchor=\"middle\" x=\"1082.5\" y=\"-42.8\" font-family=\"Times New Roman,serif\" font-size=\"14.00\"> </text>\n<polyline fill=\"none\" stroke=\"black\" points=\"1092.5,-28.5 1092.5,-64.5 \"/>\n<text text-anchor=\"middle\" x=\"1132.5\" y=\"-42.8\" font-family=\"Times New Roman,serif\" font-size=\"14.00\">data 2.0000</text>\n<polyline fill=\"none\" stroke=\"black\" points=\"1172.5,-28.5 1172.5,-64.5 \"/>\n<text text-anchor=\"middle\" x=\"1213.5\" y=\"-42.8\" font-family=\"Times New Roman,serif\" font-size=\"14.00\">grad 0.2203</text>\n</g>\n<!-- 2489005977024&#45;&gt;2489005975056* -->\n<g id=\"edge19\" class=\"edge\">\n<title>2489005977024&#45;&gt;2489005975056*</title>\n<path fill=\"none\" stroke=\"black\" d=\"M1254.68,-62.36C1264.61,-64.11 1274.23,-65.8 1282.84,-67.32\"/>\n<polygon fill=\"black\" stroke=\"black\" points=\"1282.36,-70.78 1292.81,-69.07 1283.57,-63.89 1282.36,-70.78\"/>\n</g>\n<!-- 2489007454192 -->\n<g id=\"node28\" class=\"node\">\n<title>2489007454192</title>\n<polygon fill=\"none\" stroke=\"black\" points=\"2,-29.5 2,-65.5 198,-65.5 198,-29.5 2,-29.5\"/>\n<text text-anchor=\"middle\" x=\"17\" y=\"-43.8\" font-family=\"Times New Roman,serif\" font-size=\"14.00\">x1</text>\n<polyline fill=\"none\" stroke=\"black\" points=\"32,-29.5 32,-65.5 \"/>\n<text text-anchor=\"middle\" x=\"72\" y=\"-43.8\" font-family=\"Times New Roman,serif\" font-size=\"14.00\">data 2.0000</text>\n<polyline fill=\"none\" stroke=\"black\" points=\"112,-29.5 112,-65.5 \"/>\n<text text-anchor=\"middle\" x=\"155\" y=\"-43.8\" font-family=\"Times New Roman,serif\" font-size=\"14.00\">grad &#45;1.5000</text>\n</g>\n<!-- 2489007454192&#45;&gt;2489005974720* -->\n<g id=\"edge24\" class=\"edge\">\n<title>2489007454192&#45;&gt;2489005974720*</title>\n<path fill=\"none\" stroke=\"black\" d=\"M172.53,-65.56C181.84,-68.33 191.2,-71.33 200,-74.5 210.53,-78.29 221.75,-83.1 231.72,-87.67\"/>\n<polygon fill=\"black\" stroke=\"black\" points=\"230.28,-90.86 240.82,-91.93 233.25,-84.52 230.28,-90.86\"/>\n</g>\n</g>\n</svg>\n",
      "text/plain": [
       "<graphviz.graphs.Digraph at 0x24384512520>"
      ]
     },
     "execution_count": 12,
     "metadata": {},
     "output_type": "execute_result"
    }
   ],
   "source": [
    "# inputs x1,x2\n",
    "x1 = Value(2.0, label='x1')\n",
    "x2 = Value(0.0, label='x2')\n",
    "# weights w1,w2\n",
    "w1 = Value(-3.0, label='w1')\n",
    "w2 = Value(1.0, label='w2')\n",
    "# bias of the neuron\n",
    "b = Value(6.8813735870195432, label='b')\n",
    "# x1*w1 + x2*w2 + b\n",
    "x1w1 = x1*w1; x1w1.label = 'x1*w1'\n",
    "x2w2 = x2*w2; x2w2.label = 'x2*w2'\n",
    "x1w1x2w2 = x1w1 + x2w2; x1w1x2w2.label = 'x1*w1 + x2*w2'\n",
    "n = x1w1x2w2 + b; n.label = 'n'\n",
    "# ----\n",
    "e = (2*n).exp()\n",
    "o = (e - 1) / (e + 1)\n",
    "# ----\n",
    "o.label = 'o'\n",
    "o.backward()\n",
    "draw_dot(o)"
   ]
  },
  {
   "cell_type": "code",
   "execution_count": 13,
   "metadata": {},
   "outputs": [],
   "source": [
    "import torch"
   ]
  },
  {
   "cell_type": "code",
   "execution_count": 14,
   "metadata": {},
   "outputs": [
    {
     "name": "stdout",
     "output_type": "stream",
     "text": [
      "-0.9999092042625951\n",
      "------\n",
      "x2 0.0001815832309438603\n",
      "w2 0.0\n",
      "x1 -0.0005447496928315809\n",
      "w1 0.0003631664618877206\n"
     ]
    }
   ],
   "source": [
    "x1 = torch.Tensor([2.0]).double()                        ;x1.requires_grad = True\n",
    "x2 = torch.Tensor([0.0]).double()                        ;x2.requires_grad = True\n",
    "w1 = torch.Tensor([-3.0]).double()                       ;w1.requires_grad = True\n",
    "w2 = torch.Tensor([1.0]).double()                        ;w2.requires_grad = True\n",
    "b = torch.Tensor([1.0]).double()                         ;b.requires_grad = True\n",
    "n = x1*w1 + x2*w2 + b\n",
    "o = torch.tanh(n)\n",
    "\n",
    "print(o.data.item())\n",
    "o.backward()\n",
    "\n",
    "print(\"------\")\n",
    "print('x2', x2.grad.item())\n",
    "print('w2', w2.grad.item())\n",
    "print('x1', x1.grad.item())\n",
    "print('w1', w1.grad.item())"
   ]
  },
  {
   "cell_type": "code",
   "execution_count": 15,
   "metadata": {},
   "outputs": [],
   "source": [
    "import random"
   ]
  },
  {
   "cell_type": "code",
   "execution_count": 16,
   "metadata": {},
   "outputs": [],
   "source": [
    "class Neuron:\n",
    "    def __init__(self, nin):\n",
    "        self.w = [Value(random.uniform(-1, 1)) for _ in range(nin)]\n",
    "        self.b = Value(random.uniform(-1, 1))\n",
    "    def __call__(self, x):\n",
    "        # w * x + b\n",
    "        act = sum((wi * xi for wi, xi in zip(self.w, x)), self.b)\n",
    "        out = act.tanh()\n",
    "        return out\n",
    "    def parameters(self):\n",
    "        return self.w + [self.b]\n",
    "class Layer:\n",
    "    def __init__(self, nin, nout):\n",
    "        self.neurons = [Neuron(nin) for _ in range(nout)]\n",
    "    def __call__(self, x):\n",
    "        outs = [n(x) for n in self.neurons]\n",
    "        return outs[0] if len(outs) == 1 else outs\n",
    "    def parameters(self):\n",
    "        return [p for neuron in self.neurons for p in neuron.parameters()]\n",
    "class MLP:\n",
    "    \n",
    "    def __init__(self, nin, nouts):\n",
    "        sz = [nin] + nouts\n",
    "        self.layers = [Layer(sz[i], sz[i+1]) for i in range(len(nouts))]\n",
    "    \n",
    "    def __call__(self, x):\n",
    "        for layer in self.layers:\n",
    "            x = layer(x)\n",
    "        return x\n",
    "    def parameters(self):\n",
    "        return [p for layer in self.layers for p in layer.parameters()]"
   ]
  },
  {
   "cell_type": "code",
   "execution_count": 17,
   "metadata": {},
   "outputs": [
    {
     "data": {
      "text/plain": [
       "Value(data=-0.9012348630371708)"
      ]
     },
     "execution_count": 17,
     "metadata": {},
     "output_type": "execute_result"
    }
   ],
   "source": [
    "x = [2.0, 3.0, -1.0]\n",
    "n = MLP(3, [4, 4, 1])\n",
    "n(x)"
   ]
  },
  {
   "cell_type": "code",
   "execution_count": 18,
   "metadata": {},
   "outputs": [
    {
     "data": {
      "text/plain": [
       "[Value(data=-0.9012348630371708),\n",
       " Value(data=-0.3344895303946296),\n",
       " Value(data=-0.9462753546664359),\n",
       " Value(data=-0.9468535059897694)]"
      ]
     },
     "execution_count": 18,
     "metadata": {},
     "output_type": "execute_result"
    }
   ],
   "source": [
    "xs = [\n",
    "    [2.0, 3.0, -1.0],\n",
    "    [3.0, -1.0, 0.5],\n",
    "    [0.5, 1.0, 1.0],\n",
    "    [1.0, 1.0, -1.0],\n",
    "]\n",
    "ys = [1.0, -1.0, -1.0, 1.0]\n",
    "ypred = [n(x) for x in xs]\n",
    "ypred"
   ]
  },
  {
   "cell_type": "code",
   "execution_count": 19,
   "metadata": {},
   "outputs": [
    {
     "data": {
      "text/plain": [
       "Value(data=4.236029096455235)"
      ]
     },
     "execution_count": 19,
     "metadata": {},
     "output_type": "execute_result"
    }
   ],
   "source": [
    "loss = sum((yout - ygt) **2 for ygt, yout in zip(ys, ypred))\n",
    "loss"
   ]
  },
  {
   "cell_type": "code",
   "execution_count": 20,
   "metadata": {},
   "outputs": [
    {
     "name": "stdout",
     "output_type": "stream",
     "text": [
      "0 4.236029096455235\n",
      "1 3.8570610156944665\n",
      "2 3.7557119143247037\n",
      "3 3.5725219350309363\n",
      "4 3.1137859689764356\n",
      "5 1.8336754594732634\n",
      "6 0.8322115999354138\n",
      "7 0.4647630141367825\n",
      "8 0.23558898663088504\n",
      "9 0.1615629349422149\n",
      "10 0.12229248492690142\n",
      "11 0.09731724902489655\n",
      "12 0.08025599578099199\n",
      "13 0.06796188751461839\n",
      "14 0.05873285360300454\n",
      "15 0.051578067803446995\n",
      "16 0.045885770513415636\n",
      "17 0.04125973320419119\n",
      "18 0.03743298001425366\n",
      "19 0.03421956877466138\n",
      "20 0.03148630364013286\n",
      "21 0.02913544154833656\n",
      "22 0.027093738037104458\n",
      "23 0.025305291594264073\n",
      "24 0.023726741581748152\n",
      "25 0.02232396800250253\n",
      "26 0.021069774924410836\n",
      "27 0.01994223331742774\n",
      "28 0.018923475253530022\n",
      "29 0.017998802924382218\n",
      "30 0.01715602101244997\n",
      "31 0.016384930001814547\n",
      "32 0.01567693711204394\n",
      "33 0.015024754323046317\n",
      "34 0.0144221616615696\n",
      "35 0.013863819935897012\n",
      "36 0.013345121323295073\n",
      "37 0.012862069211336653\n",
      "38 0.012411180849202869\n",
      "39 0.011989407932549597\n",
      "40 0.011594071397837403\n",
      "41 0.011222807557594288\n",
      "42 0.010873523349262993\n",
      "43 0.010544358955030492\n",
      "44 0.01023365641953957\n",
      "45 0.009939933176240638\n",
      "46 0.009661859612809569\n",
      "47 0.009398239977235236\n",
      "48 0.009147996060453587\n",
      "49 0.008910153197386448\n",
      "50 0.008683828212395094\n",
      "51 0.008468219002351358\n",
      "52 0.008262595504472456\n",
      "53 0.008066291839592434\n",
      "54 0.007878699456838719\n",
      "55 0.007699261134435799\n",
      "56 0.007527465714887551\n",
      "57 0.0073628434721274075\n",
      "58 0.007204962024182493\n",
      "59 0.00705342271811783\n",
      "60 0.006907857425020124\n",
      "61 0.006767925691955846\n",
      "62 0.006633312205522964\n",
      "63 0.00650372452807335\n",
      "64 0.006378891073126971\n",
      "65 0.006258559291103199\n",
      "66 0.00614249404040017\n",
      "67 0.00603047612217506\n",
      "68 0.00592230096001263\n",
      "69 0.00581777740809398\n",
      "70 0.005716726673556092\n",
      "71 0.00561898134052117\n",
      "72 0.005524384484814916\n",
      "73 0.005432788869724758\n",
      "74 0.00534405621430151\n",
      "75 0.005258056526707779\n",
      "76 0.005174667495988113\n",
      "77 0.005093773936392251\n",
      "78 0.005015267279046672\n",
      "79 0.004939045106348437\n",
      "80 0.004865010724963498\n",
      "81 0.004793072773758046\n",
      "82 0.004723144863384239\n",
      "83 0.004655145244587433\n",
      "84 0.004588996502608383\n",
      "85 0.004524625275323455\n",
      "86 0.004461961993006149\n",
      "87 0.004400940637805281\n",
      "88 0.004341498521223953\n",
      "89 0.004283576078052397\n",
      "90 0.004227116675356274\n",
      "91 0.004172066435256985\n",
      "92 0.004118374070359277\n",
      "93 0.004065990730788833\n",
      "94 0.004014869861898439\n",
      "95 0.00396496707178687\n",
      "96 0.00391624000785274\n",
      "97 0.003868648241674533\n",
      "98 0.0038221531615709684\n",
      "99 0.003776717872252042\n"
     ]
    }
   ],
   "source": [
    "for k in range(100):\n",
    "    # update\n",
    "\n",
    "    \n",
    "    # forward pass\n",
    "    loss\n",
    "    ypred = [n(x) for x in xs]\n",
    "    loss = sum((yout-ygt)**2 for ygt, yout in zip(ys, ypred))\n",
    "\n",
    "    # backward pass\n",
    "    for p in n.parameters():\n",
    "       p.grad =0\n",
    "    loss.backward()\n",
    "\n",
    "    # update\n",
    "    for p in n.parameters():\n",
    "        p.data += -0.1 * p.grad\n",
    "    \n",
    "    print(k, loss.data)"
   ]
  },
  {
   "cell_type": "code",
   "execution_count": 21,
   "metadata": {},
   "outputs": [
    {
     "data": {
      "text/plain": [
       "[Value(data=0.9575306053313856),\n",
       " Value(data=-0.9634146023522566),\n",
       " Value(data=-0.9801314507174191),\n",
       " Value(data=0.9547952734704191)]"
      ]
     },
     "execution_count": 21,
     "metadata": {},
     "output_type": "execute_result"
    }
   ],
   "source": [
    "ypred"
   ]
  },
  {
   "cell_type": "code",
   "execution_count": null,
   "metadata": {},
   "outputs": [],
   "source": []
  }
 ],
 "metadata": {
  "kernelspec": {
   "display_name": "Python 3.9.12 ('base')",
   "language": "python",
   "name": "python3"
  },
  "language_info": {
   "codemirror_mode": {
    "name": "ipython",
    "version": 3
   },
   "file_extension": ".py",
   "mimetype": "text/x-python",
   "name": "python",
   "nbconvert_exporter": "python",
   "pygments_lexer": "ipython3",
   "version": "3.9.12"
  },
  "orig_nbformat": 4,
  "vscode": {
   "interpreter": {
    "hash": "277b78f2730b0903abf2859ae01821a113fbf907e4071225ef1d3ec9542f1da7"
   }
  }
 },
 "nbformat": 4,
 "nbformat_minor": 2
}
