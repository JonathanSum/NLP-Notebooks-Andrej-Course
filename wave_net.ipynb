{
 "cells": [
  {
   "cell_type": "markdown",
   "metadata": {
    "id": "_mEF05xtbHwp"
   },
   "source": [
    "## makemore: part 5 (building a WaveNet)\n",
    "\n",
    "[DeepMind blog post from 2016](https://www.deepmind.com/blog/wavenet-a-generative-model-for-raw-audio)"
   ]
  },
  {
   "cell_type": "code",
   "execution_count": 3,
   "metadata": {
    "execution": {
     "iopub.execute_input": "2022-12-30T21:43:41.013232Z",
     "iopub.status.busy": "2022-12-30T21:43:41.012231Z",
     "iopub.status.idle": "2022-12-30T21:43:42.642058Z",
     "shell.execute_reply": "2022-12-30T21:43:42.640958Z",
     "shell.execute_reply.started": "2022-12-30T21:43:41.013205Z"
    },
    "id": "7lDFibCgbHwr"
   },
   "outputs": [],
   "source": [
    "import torch\n",
    "import torch.nn.functional as F\n",
    "import matplotlib.pyplot as plt # for making figures\n",
    "%matplotlib inline"
   ]
  },
  {
   "cell_type": "code",
   "execution_count": 4,
   "metadata": {
    "colab": {
     "base_uri": "https://localhost:8080/"
    },
    "execution": {
     "iopub.execute_input": "2022-12-30T21:43:42.644301Z",
     "iopub.status.busy": "2022-12-30T21:43:42.643857Z",
     "iopub.status.idle": "2022-12-30T21:43:43.478469Z",
     "shell.execute_reply": "2022-12-30T21:43:43.477561Z",
     "shell.execute_reply.started": "2022-12-30T21:43:42.644274Z"
    },
    "id": "htdQCnUPbhS9",
    "outputId": "977bd785-fcaa-4405-fe94-f56d7d8b325d"
   },
   "outputs": [
    {
     "name": "stdout",
     "output_type": "stream",
     "text": [
      "--2022-12-30 21:43:43--  https://raw.githubusercontent.com/karpathy/makemore/master/names.txt\n",
      "Resolving raw.githubusercontent.com (raw.githubusercontent.com)... 185.199.111.133, 185.199.109.133, 185.199.108.133, ...\n",
      "Connecting to raw.githubusercontent.com (raw.githubusercontent.com)|185.199.111.133|:443... connected.\n",
      "HTTP request sent, awaiting response... 200 OK\n",
      "Length: 228145 (223K) [text/plain]\n",
      "Saving to: ‘names.txt.4’\n",
      "\n",
      "names.txt.4         100%[===================>] 222.80K  --.-KB/s    in 0.06s   \n",
      "\n",
      "2022-12-30 21:43:43 (3.79 MB/s) - ‘names.txt.4’ saved [228145/228145]\n",
      "\n"
     ]
    }
   ],
   "source": [
    "# download the names.txt file from github\n",
    "!wget https://raw.githubusercontent.com/karpathy/makemore/master/names.txt"
   ]
  },
  {
   "cell_type": "code",
   "execution_count": 5,
   "metadata": {
    "colab": {
     "base_uri": "https://localhost:8080/"
    },
    "execution": {
     "iopub.execute_input": "2022-12-30T21:43:43.480040Z",
     "iopub.status.busy": "2022-12-30T21:43:43.479741Z",
     "iopub.status.idle": "2022-12-30T21:43:43.497100Z",
     "shell.execute_reply": "2022-12-30T21:43:43.496245Z",
     "shell.execute_reply.started": "2022-12-30T21:43:43.480013Z"
    },
    "id": "ylW9Ir3GbHws",
    "outputId": "9f3c34ea-ed99-4f2a-fbc7-97fff004cb48"
   },
   "outputs": [
    {
     "name": "stdout",
     "output_type": "stream",
     "text": [
      "32033\n",
      "15\n",
      "['emma', 'olivia', 'ava', 'isabella', 'sophia', 'charlotte', 'mia', 'amelia']\n"
     ]
    }
   ],
   "source": [
    "# read in all the words\n",
    "words = open('names.txt', 'r').read().splitlines()\n",
    "print(len(words))\n",
    "print(max(len(w) for w in words))\n",
    "print(words[:8])"
   ]
  },
  {
   "cell_type": "code",
   "execution_count": 6,
   "metadata": {
    "colab": {
     "base_uri": "https://localhost:8080/"
    },
    "execution": {
     "iopub.execute_input": "2022-12-30T21:43:43.499242Z",
     "iopub.status.busy": "2022-12-30T21:43:43.499005Z",
     "iopub.status.idle": "2022-12-30T21:43:43.506788Z",
     "shell.execute_reply": "2022-12-30T21:43:43.505981Z",
     "shell.execute_reply.started": "2022-12-30T21:43:43.499221Z"
    },
    "id": "GPwi-_rEbHwt",
    "outputId": "5538e692-f140-4e06-cca1-6b617e4cbf83"
   },
   "outputs": [
    {
     "name": "stdout",
     "output_type": "stream",
     "text": [
      "{1: 'a', 2: 'b', 3: 'c', 4: 'd', 5: 'e', 6: 'f', 7: 'g', 8: 'h', 9: 'i', 10: 'j', 11: 'k', 12: 'l', 13: 'm', 14: 'n', 15: 'o', 16: 'p', 17: 'q', 18: 'r', 19: 's', 20: 't', 21: 'u', 22: 'v', 23: 'w', 24: 'x', 25: 'y', 26: 'z', 0: '.'}\n",
      "27\n"
     ]
    }
   ],
   "source": [
    "# build the vocabulary of characters and mappings to/from integers\n",
    "chars = sorted(list(set(''.join(words))))\n",
    "stoi = {s:i+1 for i,s in enumerate(chars)}\n",
    "stoi['.'] = 0\n",
    "itos = {i:s for s,i in stoi.items()}\n",
    "vocab_size = len(itos)\n",
    "print(itos)\n",
    "print(vocab_size)"
   ]
  },
  {
   "cell_type": "code",
   "execution_count": 7,
   "metadata": {
    "execution": {
     "iopub.execute_input": "2022-12-30T21:43:43.508052Z",
     "iopub.status.busy": "2022-12-30T21:43:43.507839Z",
     "iopub.status.idle": "2022-12-30T21:43:43.523135Z",
     "shell.execute_reply": "2022-12-30T21:43:43.522372Z",
     "shell.execute_reply.started": "2022-12-30T21:43:43.508034Z"
    },
    "id": "j8JdduA3bHwu"
   },
   "outputs": [],
   "source": [
    "# shuffle up the words\n",
    "import random\n",
    "random.seed(42)\n",
    "random.shuffle(words)"
   ]
  },
  {
   "cell_type": "code",
   "execution_count": 8,
   "metadata": {
    "colab": {
     "base_uri": "https://localhost:8080/"
    },
    "execution": {
     "iopub.execute_input": "2022-12-30T21:43:43.524130Z",
     "iopub.status.busy": "2022-12-30T21:43:43.523921Z",
     "iopub.status.idle": "2022-12-30T21:43:44.016919Z",
     "shell.execute_reply": "2022-12-30T21:43:44.015969Z",
     "shell.execute_reply.started": "2022-12-30T21:43:43.524111Z"
    },
    "id": "kcrfsUG_bHwu",
    "outputId": "b9be3377-75c7-4930-e470-17076373e24d"
   },
   "outputs": [
    {
     "name": "stdout",
     "output_type": "stream",
     "text": [
      "torch.Size([182625, 8]) torch.Size([182625])\n",
      "torch.Size([22655, 8]) torch.Size([22655])\n",
      "torch.Size([22866, 8]) torch.Size([22866])\n"
     ]
    }
   ],
   "source": [
    "# build the dataset\n",
    "block_size = 8 # context length: how many characters do we take to predict the next one?\n",
    "\n",
    "def build_dataset(words):  \n",
    "  X, Y = [], []\n",
    "  \n",
    "  for w in words:\n",
    "    # Since starting int is 0, we have the starting int,0 here.\n",
    "    context = [0] * block_size\n",
    "    for ch in w + '.':\n",
    "      ix = stoi[ch]\n",
    "      X.append(context)\n",
    "      Y.append(ix)\n",
    "      context = context[1:] + [ix] # crop and append\n",
    "\n",
    "  X = torch.tensor(X)\n",
    "  Y = torch.tensor(Y)\n",
    "  print(X.shape, Y.shape)\n",
    "  return X, Y\n",
    "\n",
    "n1 = int(0.8*len(words))\n",
    "n2 = int(0.9*len(words))\n",
    "Xtr,  Ytr  = build_dataset(words[:n1])     # 80%\n",
    "Xdev, Ydev = build_dataset(words[n1:n2])   # 10%\n",
    "Xte,  Yte  = build_dataset(words[n2:])     # 10%"
   ]
  },
  {
   "cell_type": "code",
   "execution_count": 9,
   "metadata": {
    "colab": {
     "base_uri": "https://localhost:8080/"
    },
    "execution": {
     "iopub.execute_input": "2022-12-30T21:43:44.018214Z",
     "iopub.status.busy": "2022-12-30T21:43:44.017974Z",
     "iopub.status.idle": "2022-12-30T21:43:44.025106Z",
     "shell.execute_reply": "2022-12-30T21:43:44.024224Z",
     "shell.execute_reply.started": "2022-12-30T21:43:44.018193Z"
    },
    "id": "9aFDMks6bHwv",
    "outputId": "f34af10e-1747-456d-c798-6d62a7727786"
   },
   "outputs": [
    {
     "name": "stdout",
     "output_type": "stream",
     "text": [
      "........ --> y\n",
      ".......y --> u\n",
      "......yu --> h\n",
      ".....yuh --> e\n",
      "....yuhe --> n\n",
      "...yuhen --> g\n",
      "..yuheng --> .\n",
      "........ --> d\n",
      ".......d --> i\n",
      "......di --> o\n",
      ".....dio --> n\n",
      "....dion --> d\n",
      "...diond --> r\n",
      "..diondr --> e\n",
      ".diondre --> .\n",
      "........ --> x\n",
      ".......x --> a\n",
      "......xa --> v\n",
      ".....xav --> i\n",
      "....xavi --> e\n"
     ]
    }
   ],
   "source": [
    "for x,y in zip(Xtr[:20], Ytr[:20]):\n",
    "  print(''.join(itos[ix.item()] for ix in x), '-->', itos[y.item()])"
   ]
  },
  {
   "cell_type": "code",
   "execution_count": 10,
   "metadata": {
    "execution": {
     "iopub.execute_input": "2022-12-30T21:43:44.026618Z",
     "iopub.status.busy": "2022-12-30T21:43:44.026283Z",
     "iopub.status.idle": "2022-12-30T21:43:44.031706Z",
     "shell.execute_reply": "2022-12-30T21:43:44.030293Z",
     "shell.execute_reply.started": "2022-12-30T21:43:44.026593Z"
    },
    "id": "MgbP_-Uzomlw"
   },
   "outputs": [],
   "source": [
    "import math\n",
    "import torch.nn as nn"
   ]
  },
  {
   "cell_type": "code",
   "execution_count": 11,
   "metadata": {
    "execution": {
     "iopub.execute_input": "2022-12-30T21:43:44.032832Z",
     "iopub.status.busy": "2022-12-30T21:43:44.032606Z",
     "iopub.status.idle": "2022-12-30T21:43:44.140255Z",
     "shell.execute_reply": "2022-12-30T21:43:44.138947Z",
     "shell.execute_reply.started": "2022-12-30T21:43:44.032811Z"
    },
    "id": "-goFZmrabHww"
   },
   "outputs": [],
   "source": [
    "# Near copy paste of the layers we have developed in Part 3\n",
    "\n",
    "# -----------------------------------------------------------------------------------------------\n",
    "class Linear:\n",
    "  \n",
    "  def __init__(self, fan_in, fan_out, bias=True):\n",
    "    self.weight = torch.randn((fan_in, fan_out)) / fan_in**0.5 # note: kaiming init\n",
    "    self.bias = torch.zeros(fan_out) if bias else None\n",
    "  \n",
    "  def __call__(self, x):\n",
    "    self.out = x @ self.weight\n",
    "    if self.bias is not None:\n",
    "      self.out += self.bias\n",
    "    return self.out\n",
    "  \n",
    "  def parameters(self):\n",
    "    return [self.weight] + ([] if self.bias is None else [self.bias])\n",
    "\n",
    "# -----------------------------------------------------------------------------------------------\n",
    "class BatchNorm1d:\n",
    "  \n",
    "  def __init__(self, dim, eps=1e-5, momentum=0.1):\n",
    "    self.eps = eps\n",
    "    self.momentum = momentum\n",
    "    self.training = True\n",
    "    # parameters (trained with backprop)\n",
    "    self.gamma = torch.ones(dim)\n",
    "    self.beta = torch.zeros(dim)\n",
    "    # buffers (trained with a running 'momentum update')\n",
    "    self.running_mean = torch.zeros(dim)\n",
    "    self.running_var = torch.ones(dim)\n",
    "  \n",
    "  def __call__(self, x):\n",
    "    # calculate the forward pass\n",
    "    if self.training:\n",
    "      if x.ndim == 2:\n",
    "        dim = 0\n",
    "      elif x.ndim == 3:\n",
    "        dim = (0,1)\n",
    "      xmean = x.mean(dim, keepdim=True) # batch mean\n",
    "      xvar = x.var(dim, keepdim=True) # batch variance\n",
    "    else:\n",
    "      xmean = self.running_mean\n",
    "      xvar = self.running_var\n",
    "    xhat = (x - xmean) / torch.sqrt(xvar + self.eps) # normalize to unit variance\n",
    "    self.out = self.gamma * xhat + self.beta\n",
    "    # update the buffers\n",
    "    if self.training:\n",
    "      with torch.no_grad():\n",
    "        self.running_mean = (1 - self.momentum) * self.running_mean + self.momentum * xmean\n",
    "        self.running_var = (1 - self.momentum) * self.running_var + self.momentum * xvar\n",
    "    return self.out\n",
    "  \n",
    "  def parameters(self):\n",
    "    return [self.gamma, self.beta]\n",
    "\n",
    "# -----------------------------------------------------------------------------------------------\n",
    "class Tanh:\n",
    "  def __call__(self, x):\n",
    "    self.out = torch.tanh(x)\n",
    "    return self.out\n",
    "  def parameters(self):\n",
    "    return []\n",
    "\n",
    "# -----------------------------------------------------------------------------------------------\n",
    "class NewGELU:\n",
    "  #cite: https://github.com/karpathy/makemore/blob/master/makemore.py\n",
    "  def __call__(self, x):\n",
    "      return 0.5 * x * (1.0 + torch.tanh(math.sqrt(2.0 / math.pi) * (x + 0.044715 * torch.pow(x, 3.0))))\n",
    "  def parameters(self):\n",
    "      return []\n",
    "# -----------------------------------------------------------------------------------------------\n",
    "class RELU:\n",
    "  def __call__(self, x):\n",
    "      m = nn.ReLU(0.1)\n",
    "      return m(x)\n",
    "      #return torch.where(x <0., torch.zeros_like(x), x)\n",
    "  def parameters(self):\n",
    "      return []\n",
    "\n",
    "# -----------------------------------------------------------------------------------------------\n",
    "class LeakyRELU:\n",
    "  def __call__(self, x):\n",
    "      m = nn.LeakyReLU(0.1)\n",
    "      return m(x)\n",
    "      #return torch.where(x <0., torch.zeros_like(x), x)\n",
    "  def parameters(self):\n",
    "      return []\n",
    "\n",
    "# -----------------------------------------------------------------------------------------------\n",
    "\n",
    "class Embedding:\n",
    "  \n",
    "  def __init__(self, num_embeddings, embedding_dim):\n",
    "    self.weight = torch.randn((num_embeddings, embedding_dim))\n",
    "    \n",
    "  def __call__(self, IX):\n",
    "    self.out = self.weight[IX]\n",
    "    return self.out\n",
    "  \n",
    "  def parameters(self):\n",
    "    return [self.weight]\n",
    "\n",
    "# -----------------------------------------------------------------------------------------------\n",
    "class FlattenConsecutive:\n",
    "  #FlattenConsecutive(8), Linear(n_embd * 8, n_hidden, bias=False)\n",
    "  def __init__(self, n):\n",
    "    self.n = n\n",
    "    \n",
    "  def __call__(self, x):\n",
    "    B, T, C = x.shape\n",
    "    x = x.view(B, T//self.n, C*self.n)\n",
    "    if x.shape[1] == 1:\n",
    "      x = x.squeeze(1)\n",
    "    self.out = x\n",
    "    return self.out\n",
    "  \n",
    "  def parameters(self):\n",
    "    return []\n",
    "\n",
    "# -----------------------------------------------------------------------------------------------\n",
    "class Sequential:\n",
    "  \n",
    "  def __init__(self, layers):\n",
    "    self.layers = layers\n",
    "  \n",
    "  def __call__(self, x):\n",
    "    for layer in self.layers:\n",
    "      x = layer(x)\n",
    "    self.out = x\n",
    "    return self.out\n",
    "  \n",
    "  def parameters(self):\n",
    "    # get parameters of all layers and stretch them out into one list\n",
    "    return [p for layer in self.layers for p in layer.parameters()]\n"
   ]
  },
  {
   "cell_type": "code",
   "execution_count": 12,
   "metadata": {
    "execution": {
     "iopub.execute_input": "2022-12-30T21:43:44.143680Z",
     "iopub.status.busy": "2022-12-30T21:43:44.143071Z",
     "iopub.status.idle": "2022-12-30T21:43:44.150647Z",
     "shell.execute_reply": "2022-12-30T21:43:44.149471Z",
     "shell.execute_reply.started": "2022-12-30T21:43:44.143655Z"
    },
    "id": "v01gpFOSbHwx"
   },
   "outputs": [],
   "source": [
    "torch.manual_seed(42); # seed rng for reproducibility"
   ]
  },
  {
   "cell_type": "code",
   "execution_count": 13,
   "metadata": {
    "colab": {
     "base_uri": "https://localhost:8080/"
    },
    "execution": {
     "iopub.execute_input": "2022-12-30T21:43:44.152571Z",
     "iopub.status.busy": "2022-12-30T21:43:44.151925Z",
     "iopub.status.idle": "2022-12-30T21:43:44.161684Z",
     "shell.execute_reply": "2022-12-30T21:43:44.160624Z",
     "shell.execute_reply.started": "2022-12-30T21:43:44.152542Z"
    },
    "id": "vHMDMtvpbHwx",
    "outputId": "0f97a1f8-b593-4ced-f3aa-b97f91189b0d"
   },
   "outputs": [
    {
     "name": "stdout",
     "output_type": "stream",
     "text": [
      "78843\n"
     ]
    }
   ],
   "source": [
    "# original network\n",
    "# n_embd = 10 # the dimensionality of the character embedding vectors\n",
    "# n_hidden = 300 # the number of neurons in the hidden layer of the MLP\n",
    "# model = Sequential([\n",
    "#   Embedding(vocab_size, n_embd),\n",
    "#   FlattenConsecutive(8), Linear(n_embd * 8, n_hidden, bias=False), BatchNorm1d(n_hidden), Tanh(),\n",
    "#   Linear(n_hidden, vocab_size),\n",
    "# ])\n",
    "\n",
    "# hierarchical network\n",
    "n_embd = 32 # the dimensionality of the character embedding vectors\n",
    "n_hidden = 128 # the number of neurons in the hidden layer of the MLP\n",
    "model = Sequential([\n",
    "  Embedding(vocab_size, n_embd),\n",
    "  FlattenConsecutive(2), Linear(n_embd * 2, n_hidden, bias=False), BatchNorm1d(n_hidden), Tanh(),\n",
    "  FlattenConsecutive(2), Linear(n_hidden*2, n_hidden, bias=False), BatchNorm1d(n_hidden), Tanh(),\n",
    "  FlattenConsecutive(2), Linear(n_hidden*2, n_hidden, bias=False), BatchNorm1d(n_hidden), Tanh(),\n",
    "  Linear(n_hidden, vocab_size),\n",
    "])\n",
    "\n",
    "# parameter init\n",
    "with torch.no_grad():\n",
    "  model.layers[-1].weight *= 0.1 # last layer make less confident\n",
    "\n",
    "parameters = model.parameters()\n",
    "print(sum(p.nelement() for p in parameters)) # number of parameters in total\n",
    "for p in parameters:\n",
    "  p.requires_grad = True"
   ]
  },
  {
   "cell_type": "code",
   "execution_count": 14,
   "metadata": {
    "colab": {
     "base_uri": "https://localhost:8080/"
    },
    "execution": {
     "iopub.execute_input": "2022-12-30T21:43:44.163097Z",
     "iopub.status.busy": "2022-12-30T21:43:44.162832Z",
     "iopub.status.idle": "2022-12-30T22:07:33.446315Z",
     "shell.execute_reply": "2022-12-30T22:07:33.445455Z",
     "shell.execute_reply.started": "2022-12-30T21:43:44.163076Z"
    },
    "id": "Sh9SEATabHwy",
    "outputId": "6ecaec46-9496-4fe4-9ab3-565b3c92b122"
   },
   "outputs": [
    {
     "name": "stdout",
     "output_type": "stream",
     "text": [
      "      0/ 200000: 3.2889\n",
      "  10000/ 200000: 2.1119\n",
      "  20000/ 200000: 2.2623\n",
      "  30000/ 200000: 2.0563\n",
      "  40000/ 200000: 1.8632\n",
      "  50000/ 200000: 1.6557\n",
      "  60000/ 200000: 2.0003\n",
      "  70000/ 200000: 2.0606\n",
      "  80000/ 200000: 2.0176\n",
      "  90000/ 200000: 1.6827\n",
      " 100000/ 200000: 1.6440\n",
      " 110000/ 200000: 2.3658\n",
      " 120000/ 200000: 1.6008\n",
      " 130000/ 200000: 1.8809\n",
      " 140000/ 200000: 2.0688\n",
      " 150000/ 200000: 1.9981\n",
      " 160000/ 200000: 1.8368\n",
      " 170000/ 200000: 1.9328\n",
      " 180000/ 200000: 1.8882\n",
      " 190000/ 200000: 1.7315\n"
     ]
    }
   ],
   "source": [
    "# same optimization as last time\n",
    "max_steps = 200000\n",
    "batch_size = 32\n",
    "lossi = []\n",
    "\n",
    "for i in range(max_steps):\n",
    "  \n",
    "  # minibatch construct\n",
    "  ix = torch.randint(0, Xtr.shape[0], (batch_size,))\n",
    "  Xb, Yb = Xtr[ix], Ytr[ix] # batch X,Y\n",
    "  \n",
    "  # forward pass\n",
    "  logits = model(Xb)\n",
    "  loss = F.cross_entropy(logits, Yb) # loss function\n",
    "  \n",
    "  # backward pass\n",
    "  for p in parameters:\n",
    "    p.grad = None\n",
    "  loss.backward()\n",
    "  \n",
    "  # update: simple SGD\n",
    "  lr = 0.1 if i < 150000 else 0.01 # step learning rate decay\n",
    "  for p in parameters:\n",
    "    p.data += -lr * p.grad\n",
    "\n",
    "  # track stats\n",
    "  if i % 10000 == 0: # print every once in a while\n",
    "    print(f'{i:7d}/{max_steps:7d}: {loss.item():.4f}')\n",
    "  lossi.append(loss.log10().item())\n"
   ]
  },
  {
   "cell_type": "code",
   "execution_count": 15,
   "metadata": {
    "colab": {
     "base_uri": "https://localhost:8080/",
     "height": 282
    },
    "execution": {
     "iopub.execute_input": "2022-12-30T22:07:33.448217Z",
     "iopub.status.busy": "2022-12-30T22:07:33.447562Z",
     "iopub.status.idle": "2022-12-30T22:07:33.599996Z",
     "shell.execute_reply": "2022-12-30T22:07:33.599226Z",
     "shell.execute_reply.started": "2022-12-30T22:07:33.448190Z"
    },
    "id": "XrOSTEFzbHwz",
    "outputId": "24ac02ab-1540-48cf-e67c-22a65cbd9ebd"
   },
   "outputs": [
    {
     "data": {
      "text/plain": [
       "[<matplotlib.lines.Line2D at 0x7fd0ce3c7b50>]"
      ]
     },
     "execution_count": 15,
     "metadata": {},
     "output_type": "execute_result"
    },
    {
     "data": {
      "image/png": "[encoded data removed]",
      "text/plain": [
       "<Figure size 432x288 with 1 Axes>"
      ]
     },
     "metadata": {
      "needs_background": "light"
     },
     "output_type": "display_data"
    }
   ],
   "source": [
    "plt.plot(torch.tensor(lossi).view(-1, 1000).mean(1))"
   ]
  },
  {
   "cell_type": "code",
   "execution_count": 16,
   "metadata": {
    "execution": {
     "iopub.execute_input": "2022-12-30T22:07:33.601516Z",
     "iopub.status.busy": "2022-12-30T22:07:33.601090Z",
     "iopub.status.idle": "2022-12-30T22:07:33.605263Z",
     "shell.execute_reply": "2022-12-30T22:07:33.604565Z",
     "shell.execute_reply.started": "2022-12-30T22:07:33.601304Z"
    },
    "id": "ehknU7xtbHwz"
   },
   "outputs": [],
   "source": [
    "# put layers into eval mode (needed for batchnorm especially)\n",
    "for layer in model.layers:\n",
    "  layer.training = False"
   ]
  },
  {
   "cell_type": "code",
   "execution_count": 17,
   "metadata": {
    "colab": {
     "base_uri": "https://localhost:8080/"
    },
    "execution": {
     "iopub.execute_input": "2022-12-30T22:07:33.606910Z",
     "iopub.status.busy": "2022-12-30T22:07:33.606424Z",
     "iopub.status.idle": "2022-12-30T22:07:34.888467Z",
     "shell.execute_reply": "2022-12-30T22:07:34.886408Z",
     "shell.execute_reply.started": "2022-12-30T22:07:33.606887Z"
    },
    "id": "5W1wFpKubHwz",
    "outputId": "1e963306-cfe4-483b-b2f9-3471afaabf09"
   },
   "outputs": [
    {
     "name": "stdout",
     "output_type": "stream",
     "text": [
      "train 1.7624726295471191\n",
      "val 1.9921319484710693\n"
     ]
    }
   ],
   "source": [
    "# evaluate the loss\n",
    "@torch.no_grad() # this decorator disables gradient tracking inside pytorch\n",
    "def split_loss(split):\n",
    "  x,y = {\n",
    "    'train': (Xtr, Ytr),\n",
    "    'val': (Xdev, Ydev),\n",
    "    'test': (Xte, Yte),\n",
    "  }[split]\n",
    "  logits = model(x)\n",
    "  loss = F.cross_entropy(logits, y)\n",
    "  print(split, loss.item())\n",
    "\n",
    "split_loss('train')\n",
    "split_loss('val')"
   ]
  },
  {
   "cell_type": "code",
   "execution_count": 18,
   "metadata": {
    "colab": {
     "base_uri": "https://localhost:8080/"
    },
    "execution": {
     "iopub.execute_input": "2022-12-30T22:07:34.890143Z",
     "iopub.status.busy": "2022-12-30T22:07:34.889537Z",
     "iopub.status.idle": "2022-12-30T22:07:34.919508Z",
     "shell.execute_reply": "2022-12-30T22:07:34.918652Z",
     "shell.execute_reply.started": "2022-12-30T22:07:34.890119Z"
    },
    "id": "1TgwUzS6xmav",
    "outputId": "40c35a36-f105-4754-f33c-d7f7f87b614f"
   },
   "outputs": [
    {
     "name": "stdout",
     "output_type": "stream",
     "text": [
      "78843\n"
     ]
    }
   ],
   "source": [
    "n_embd = 32 # the dimensionality of the character embedding vectors\n",
    "n_hidden = 128 # the number of neurons in the hidden layer of the MLP\n",
    "model = Sequential([\n",
    "  Embedding(vocab_size, n_embd),\n",
    "  FlattenConsecutive(2), Linear(n_embd * 2, n_hidden, bias=False), BatchNorm1d(n_hidden), RELU(),\n",
    "  FlattenConsecutive(2), Linear(n_hidden*2, n_hidden, bias=False), BatchNorm1d(n_hidden), RELU(),\n",
    "  FlattenConsecutive(2), Linear(n_hidden*2, n_hidden, bias=False), BatchNorm1d(n_hidden), RELU(),\n",
    "  Linear(n_hidden, vocab_size),\n",
    "])\n",
    "\n",
    "# parameter init\n",
    "with torch.no_grad():\n",
    "  model.layers[-1].weight *= 0.1 # last layer make less confident\n",
    "\n",
    "parameters = model.parameters()\n",
    "print(sum(p.nelement() for p in parameters)) # number of parameters in total\n",
    "for p in parameters:\n",
    "  p.requires_grad = True"
   ]
  },
  {
   "cell_type": "code",
   "execution_count": 19,
   "metadata": {
    "colab": {
     "base_uri": "https://localhost:8080/"
    },
    "execution": {
     "iopub.execute_input": "2022-12-30T22:07:34.921181Z",
     "iopub.status.busy": "2022-12-30T22:07:34.920944Z",
     "iopub.status.idle": "2022-12-30T22:24:19.831411Z",
     "shell.execute_reply": "2022-12-30T22:24:19.830690Z",
     "shell.execute_reply.started": "2022-12-30T22:07:34.921160Z"
    },
    "id": "BRTakM0q5BBb",
    "outputId": "c4e931be-fd96-4b24-e2ff-472c92ec9eed"
   },
   "outputs": [
    {
     "name": "stdout",
     "output_type": "stream",
     "text": [
      "      0/ 200000: 3.2679\n",
      "  10000/ 200000: 2.3057\n",
      "  20000/ 200000: 2.3868\n",
      "  30000/ 200000: 1.8758\n",
      "  40000/ 200000: 1.8891\n",
      "  50000/ 200000: 1.7564\n",
      "  60000/ 200000: 1.6359\n",
      "  70000/ 200000: 2.3463\n",
      "  80000/ 200000: 1.7907\n",
      "  90000/ 200000: 1.8943\n",
      " 100000/ 200000: 1.7338\n",
      " 110000/ 200000: 2.1014\n",
      " 120000/ 200000: 2.0291\n",
      " 130000/ 200000: 1.9176\n",
      " 140000/ 200000: 2.0766\n",
      " 150000/ 200000: 1.8045\n",
      " 160000/ 200000: 1.6461\n",
      " 170000/ 200000: 1.9335\n",
      " 180000/ 200000: 1.6201\n",
      " 190000/ 200000: 1.7130\n"
     ]
    }
   ],
   "source": [
    "# same optimization as last time\n",
    "max_steps = 200000\n",
    "batch_size = 32\n",
    "lossi = []\n",
    "\n",
    "for i in range(max_steps):\n",
    "  \n",
    "  # minibatch construct\n",
    "  ix = torch.randint(0, Xtr.shape[0], (batch_size,))\n",
    "  Xb, Yb = Xtr[ix], Ytr[ix] # batch X,Y\n",
    "  \n",
    "  # forward pass\n",
    "  logits = model(Xb)\n",
    "  loss = F.cross_entropy(logits, Yb) # loss function\n",
    "  \n",
    "  # backward pass\n",
    "  for p in parameters:\n",
    "    p.grad = None\n",
    "  loss.backward()\n",
    "  \n",
    "  # update: simple SGD\n",
    "  lr = 0.1 if i < 150000 else 0.01 # step learning rate decay\n",
    "  for p in parameters:\n",
    "    p.data += -lr * p.grad\n",
    "\n",
    "  # track stats\n",
    "  if i % 10000 == 0: # print every once in a while\n",
    "    print(f'{i:7d}/{max_steps:7d}: {loss.item():.4f}')\n",
    "  lossi.append(loss.log10().item())\n"
   ]
  },
  {
   "cell_type": "code",
   "execution_count": 20,
   "metadata": {
    "colab": {
     "base_uri": "https://localhost:8080/",
     "height": 300
    },
    "execution": {
     "iopub.execute_input": "2022-12-30T22:24:19.832707Z",
     "iopub.status.busy": "2022-12-30T22:24:19.832459Z",
     "iopub.status.idle": "2022-12-30T22:24:21.000404Z",
     "shell.execute_reply": "2022-12-30T22:24:20.998931Z",
     "shell.execute_reply.started": "2022-12-30T22:24:19.832686Z"
    },
    "id": "1lZWsRdJx1CL",
    "outputId": "c759b8be-eebf-45b9-c826-62ceb11923da"
   },
   "outputs": [
    {
     "name": "stdout",
     "output_type": "stream",
     "text": [
      "train 1.7537628412246704\n",
      "val 2.0034213066101074\n"
     ]
    },
    {
     "data": {
      "image/png": "[encoded data removed]",
      "text/plain": [
       "<Figure size 432x288 with 1 Axes>"
      ]
     },
     "metadata": {
      "needs_background": "light"
     },
     "output_type": "display_data"
    }
   ],
   "source": [
    "plt.plot(torch.tensor(lossi).view(-1, 1000).mean(1))\n",
    "# put layers into eval mode (needed for batchnorm especially)\n",
    "for layer in model.layers:\n",
    "  layer.training = False\n",
    "\n",
    "# evaluate the loss\n",
    "@torch.no_grad() # this decorator disables gradient tracking inside pytorch\n",
    "def split_loss(split):\n",
    "  x,y = {\n",
    "    'train': (Xtr, Ytr),\n",
    "    'val': (Xdev, Ydev),\n",
    "    'test': (Xte, Yte),\n",
    "  }[split]\n",
    "  logits = model(x)\n",
    "  loss = F.cross_entropy(logits, y)\n",
    "  print(split, loss.item())\n",
    "\n",
    "split_loss('train')\n",
    "split_loss('val')"
   ]
  },
  {
   "cell_type": "code",
   "execution_count": 21,
   "metadata": {
    "execution": {
     "iopub.execute_input": "2022-12-30T22:24:21.002251Z",
     "iopub.status.busy": "2022-12-30T22:24:21.001628Z",
     "iopub.status.idle": "2022-12-30T22:24:21.006085Z",
     "shell.execute_reply": "2022-12-30T22:24:21.004979Z",
     "shell.execute_reply.started": "2022-12-30T22:24:21.002216Z"
    },
    "id": "tMo4aBr_RR3C"
   },
   "outputs": [],
   "source": [
    "# put layers into eval mode (needed for batchnorm especially)\n",
    "for layer in model.layers:\n",
    "  layer.training = False"
   ]
  },
  {
   "cell_type": "code",
   "execution_count": 22,
   "metadata": {
    "colab": {
     "base_uri": "https://localhost:8080/"
    },
    "execution": {
     "iopub.execute_input": "2022-12-30T22:24:21.008068Z",
     "iopub.status.busy": "2022-12-30T22:24:21.007341Z",
     "iopub.status.idle": "2022-12-30T22:24:22.134835Z",
     "shell.execute_reply": "2022-12-30T22:24:22.133831Z",
     "shell.execute_reply.started": "2022-12-30T22:24:21.008043Z"
    },
    "id": "T5vvrVjRRVgN",
    "outputId": "a5ec5996-d375-4b64-a962-d72698092a82"
   },
   "outputs": [
    {
     "name": "stdout",
     "output_type": "stream",
     "text": [
      "train 1.7537628412246704\n",
      "val 2.0034213066101074\n"
     ]
    }
   ],
   "source": [
    "# evaluate the loss\n",
    "@torch.no_grad() # this decorator disables gradient tracking inside pytorch\n",
    "def split_loss(split):\n",
    "  x,y = {\n",
    "    'train': (Xtr, Ytr),\n",
    "    'val': (Xdev, Ydev),\n",
    "    'test': (Xte, Yte),\n",
    "  }[split]\n",
    "  logits = model(x)\n",
    "  loss = F.cross_entropy(logits, y)\n",
    "  print(split, loss.item())\n",
    "\n",
    "split_loss('train')\n",
    "split_loss('val')"
   ]
  },
  {
   "cell_type": "code",
   "execution_count": 23,
   "metadata": {
    "colab": {
     "base_uri": "https://localhost:8080/"
    },
    "execution": {
     "iopub.execute_input": "2022-12-30T22:24:22.136552Z",
     "iopub.status.busy": "2022-12-30T22:24:22.136254Z",
     "iopub.status.idle": "2022-12-30T22:24:22.153549Z",
     "shell.execute_reply": "2022-12-30T22:24:22.152623Z",
     "shell.execute_reply.started": "2022-12-30T22:24:22.136527Z"
    },
    "id": "WQMocINHx7LH",
    "outputId": "8eeab846-e53e-45c6-f728-29d2b2c113ab"
   },
   "outputs": [
    {
     "name": "stdout",
     "output_type": "stream",
     "text": [
      "78843\n"
     ]
    }
   ],
   "source": [
    "n_embd = 32 # the dimensionality of the character embedding vectors\n",
    "n_hidden = 128 # the number of neurons in the hidden layer of the MLP\n",
    "model = Sequential([\n",
    "  Embedding(vocab_size, n_embd),\n",
    "  FlattenConsecutive(2), Linear(n_embd * 2, n_hidden, bias=False), BatchNorm1d(n_hidden), NewGELU(),\n",
    "  FlattenConsecutive(2), Linear(n_hidden*2, n_hidden, bias=False), BatchNorm1d(n_hidden), NewGELU(),\n",
    "  FlattenConsecutive(2), Linear(n_hidden*2, n_hidden, bias=False), BatchNorm1d(n_hidden), NewGELU(),\n",
    "  Linear(n_hidden, vocab_size)\n",
    "])\n",
    "\n",
    "# parameter init\n",
    "with torch.no_grad():\n",
    "  model.layers[-1].weight *= 0.1 # last layer make less confident\n",
    "\n",
    "parameters = model.parameters()\n",
    "print(sum(p.nelement() for p in parameters)) # number of parameters in total\n",
    "for p in parameters:\n",
    "  p.requires_grad = True"
   ]
  },
  {
   "cell_type": "code",
   "execution_count": 24,
   "metadata": {
    "colab": {
     "base_uri": "https://localhost:8080/"
    },
    "execution": {
     "iopub.execute_input": "2022-12-30T22:24:22.155194Z",
     "iopub.status.busy": "2022-12-30T22:24:22.154951Z",
     "iopub.status.idle": "2022-12-30T22:49:55.231160Z",
     "shell.execute_reply": "2022-12-30T22:49:55.230431Z",
     "shell.execute_reply.started": "2022-12-30T22:24:22.155172Z"
    },
    "id": "ZwOsOw1Q9TtW",
    "outputId": "fa9fa79e-ceb4-48b3-b9e0-d2d3d36ffb1f"
   },
   "outputs": [
    {
     "name": "stdout",
     "output_type": "stream",
     "text": [
      "      0/ 200000: 3.2810\n",
      "  10000/ 200000: 2.3747\n",
      "  20000/ 200000: 1.8684\n",
      "  30000/ 200000: 1.8986\n",
      "  40000/ 200000: 1.7256\n",
      "  50000/ 200000: 1.8924\n",
      "  60000/ 200000: 1.7530\n",
      "  70000/ 200000: 1.8827\n",
      "  80000/ 200000: 1.9257\n",
      "  90000/ 200000: 2.0728\n",
      " 100000/ 200000: 1.9873\n",
      " 110000/ 200000: 1.6364\n",
      " 120000/ 200000: 1.6870\n",
      " 130000/ 200000: 1.4691\n",
      " 140000/ 200000: 2.0933\n",
      " 150000/ 200000: 1.9816\n",
      " 160000/ 200000: 1.2619\n",
      " 170000/ 200000: 1.8261\n",
      " 180000/ 200000: 1.8023\n",
      " 190000/ 200000: 1.9140\n"
     ]
    }
   ],
   "source": [
    "# same optimization as last time\n",
    "max_steps = 200000\n",
    "batch_size = 32\n",
    "lossi = []\n",
    "\n",
    "for i in range(max_steps):\n",
    "  \n",
    "  # minibatch construct\n",
    "  ix = torch.randint(0, Xtr.shape[0], (batch_size,))\n",
    "  Xb, Yb = Xtr[ix], Ytr[ix] # batch X,Y\n",
    "  \n",
    "  # forward pass\n",
    "  logits = model(Xb)\n",
    "  loss = F.cross_entropy(logits, Yb) # loss function\n",
    "  \n",
    "  # backward pass\n",
    "  for p in parameters:\n",
    "    p.grad = None\n",
    "  loss.backward()\n",
    "  \n",
    "  # update: simple SGD\n",
    "  lr = 0.1 if i < 150000 else 0.01 # step learning rate decay\n",
    "  for p in parameters:\n",
    "    p.data += -lr * p.grad\n",
    "\n",
    "  # track stats\n",
    "  if i % 10000 == 0: # print every once in a while\n",
    "    print(f'{i:7d}/{max_steps:7d}: {loss.item():.4f}')\n",
    "  lossi.append(loss.log10().item())\n"
   ]
  },
  {
   "cell_type": "code",
   "execution_count": 25,
   "metadata": {
    "execution": {
     "iopub.execute_input": "2022-12-30T22:49:55.233329Z",
     "iopub.status.busy": "2022-12-30T22:49:55.232589Z",
     "iopub.status.idle": "2022-12-30T22:49:55.343488Z",
     "shell.execute_reply": "2022-12-30T22:49:55.341704Z",
     "shell.execute_reply.started": "2022-12-30T22:49:55.233301Z"
    },
    "id": "cdo3THeMSv0Q"
   },
   "outputs": [
    {
     "data": {
      "text/plain": [
       "[<matplotlib.lines.Line2D at 0x7fd0ce1a4070>]"
      ]
     },
     "execution_count": 25,
     "metadata": {},
     "output_type": "execute_result"
    },
    {
     "data": {
      "image/png": "[encoded data removed]",
      "text/plain": [
       "<Figure size 432x288 with 1 Axes>"
      ]
     },
     "metadata": {
      "needs_background": "light"
     },
     "output_type": "display_data"
    }
   ],
   "source": [
    "plt.plot(torch.tensor(lossi).view(-1, 1000).mean(1))"
   ]
  },
  {
   "cell_type": "code",
   "execution_count": 26,
   "metadata": {
    "execution": {
     "iopub.execute_input": "2022-12-30T22:49:55.345846Z",
     "iopub.status.busy": "2022-12-30T22:49:55.344400Z",
     "iopub.status.idle": "2022-12-30T22:49:57.674213Z",
     "shell.execute_reply": "2022-12-30T22:49:57.673306Z",
     "shell.execute_reply.started": "2022-12-30T22:49:55.345823Z"
    },
    "id": "AZ5g75AAx8i8"
   },
   "outputs": [
    {
     "name": "stdout",
     "output_type": "stream",
     "text": [
      "train 1.7242008447647095\n",
      "val 2.0082077980041504\n"
     ]
    }
   ],
   "source": [
    "# put layers into eval mode (needed for batchnorm especially)\n",
    "for layer in model.layers:\n",
    "  layer.training = False\n",
    "\n",
    "# evaluate the loss\n",
    "@torch.no_grad() # this decorator disables gradient tracking inside pytorch\n",
    "def split_loss(split):\n",
    "  x,y = {\n",
    "    'train': (Xtr, Ytr),\n",
    "    'val': (Xdev, Ydev),\n",
    "    'test': (Xte, Yte),\n",
    "  }[split]\n",
    "  logits = model(x)\n",
    "  loss = F.cross_entropy(logits, y)\n",
    "  print(split, loss.item())\n",
    "\n",
    "split_loss('train')\n",
    "split_loss('val')"
   ]
  },
  {
   "cell_type": "code",
   "execution_count": 27,
   "metadata": {
    "execution": {
     "iopub.execute_input": "2022-12-30T22:49:57.675492Z",
     "iopub.status.busy": "2022-12-30T22:49:57.675271Z",
     "iopub.status.idle": "2022-12-30T22:49:57.692285Z",
     "shell.execute_reply": "2022-12-30T22:49:57.691633Z",
     "shell.execute_reply.started": "2022-12-30T22:49:57.675462Z"
    },
    "id": "zh4rghhgRcpY"
   },
   "outputs": [
    {
     "name": "stdout",
     "output_type": "stream",
     "text": [
      "78843\n"
     ]
    }
   ],
   "source": [
    "n_embd = 32 # the dimensionality of the character embedding vectors\n",
    "n_hidden = 128 # the number of neurons in the hidden layer of the MLP\n",
    "model = Sequential([\n",
    "  Embedding(vocab_size, n_embd),\n",
    "  FlattenConsecutive(2), Linear(n_embd * 2, n_hidden, bias=False), BatchNorm1d(n_hidden), LeakyRELU(),\n",
    "  FlattenConsecutive(2), Linear(n_hidden*2, n_hidden, bias=False), BatchNorm1d(n_hidden), LeakyRELU(),\n",
    "  FlattenConsecutive(2), Linear(n_hidden*2, n_hidden, bias=False), BatchNorm1d(n_hidden), LeakyRELU(),\n",
    "  Linear(n_hidden, vocab_size)\n",
    "])\n",
    "\n",
    "# parameter init\n",
    "with torch.no_grad():\n",
    "  model.layers[-1].weight *= 0.1 # last layer make less confident\n",
    "\n",
    "parameters = model.parameters()\n",
    "print(sum(p.nelement() for p in parameters)) # number of parameters in total\n",
    "for p in parameters:\n",
    "  p.requires_grad = True"
   ]
  },
  {
   "cell_type": "code",
   "execution_count": 28,
   "metadata": {
    "execution": {
     "iopub.execute_input": "2022-12-30T22:49:57.693472Z",
     "iopub.status.busy": "2022-12-30T22:49:57.693233Z",
     "iopub.status.idle": "2022-12-30T23:05:57.801996Z",
     "shell.execute_reply": "2022-12-30T23:05:57.801289Z",
     "shell.execute_reply.started": "2022-12-30T22:49:57.693452Z"
    },
    "id": "KxRryb1WRwpr"
   },
   "outputs": [
    {
     "name": "stdout",
     "output_type": "stream",
     "text": [
      "      0/ 200000: 3.3223\n",
      "  10000/ 200000: 2.1323\n",
      "  20000/ 200000: 2.0261\n",
      "  30000/ 200000: 1.9004\n",
      "  40000/ 200000: 1.8623\n",
      "  50000/ 200000: 2.2313\n",
      "  60000/ 200000: 1.7643\n",
      "  70000/ 200000: 1.9460\n",
      "  80000/ 200000: 1.6357\n",
      "  90000/ 200000: 1.9536\n",
      " 100000/ 200000: 2.1470\n",
      " 110000/ 200000: 1.6684\n",
      " 120000/ 200000: 2.0903\n",
      " 130000/ 200000: 1.8905\n",
      " 140000/ 200000: 1.6956\n",
      " 150000/ 200000: 1.9210\n",
      " 160000/ 200000: 1.8762\n",
      " 170000/ 200000: 1.6940\n",
      " 180000/ 200000: 2.0148\n",
      " 190000/ 200000: 1.8291\n"
     ]
    }
   ],
   "source": [
    "# same optimization as last time\n",
    "max_steps = 200000\n",
    "batch_size = 32\n",
    "lossi = []\n",
    "\n",
    "for i in range(max_steps):\n",
    "  \n",
    "  # minibatch construct\n",
    "  ix = torch.randint(0, Xtr.shape[0], (batch_size,))\n",
    "  Xb, Yb = Xtr[ix], Ytr[ix] # batch X,Y\n",
    "  \n",
    "  # forward pass\n",
    "  logits = model(Xb)\n",
    "  loss = F.cross_entropy(logits, Yb) # loss function\n",
    "  \n",
    "  # backward pass\n",
    "  for p in parameters:\n",
    "    p.grad = None\n",
    "  loss.backward()\n",
    "  \n",
    "  # update: simple SGD\n",
    "  lr = 0.1 if i < 150000 else 0.01 # step learning rate decay\n",
    "  for p in parameters:\n",
    "    p.data += -lr * p.grad\n",
    "\n",
    "  # track stats\n",
    "  if i % 10000 == 0: # print every once in a while\n",
    "    print(f'{i:7d}/{max_steps:7d}: {loss.item():.4f}')\n",
    "  lossi.append(loss.log10().item())\n"
   ]
  },
  {
   "cell_type": "code",
   "execution_count": 29,
   "metadata": {
    "execution": {
     "iopub.execute_input": "2022-12-30T23:05:57.803693Z",
     "iopub.status.busy": "2022-12-30T23:05:57.803237Z",
     "iopub.status.idle": "2022-12-30T23:05:57.918179Z",
     "shell.execute_reply": "2022-12-30T23:05:57.917244Z",
     "shell.execute_reply.started": "2022-12-30T23:05:57.803668Z"
    },
    "id": "nzG6NFo5RzBg"
   },
   "outputs": [
    {
     "data": {
      "text/plain": [
       "[<matplotlib.lines.Line2D at 0x7fd0ce4d02b0>]"
      ]
     },
     "execution_count": 29,
     "metadata": {},
     "output_type": "execute_result"
    },
    {
     "data": {
      "image/png": "[encoded data removed]",
      "text/plain": [
       "<Figure size 432x288 with 1 Axes>"
      ]
     },
     "metadata": {
      "needs_background": "light"
     },
     "output_type": "display_data"
    }
   ],
   "source": [
    "plt.plot(torch.tensor(lossi).view(-1, 1000).mean(1))"
   ]
  },
  {
   "cell_type": "code",
   "execution_count": 30,
   "metadata": {
    "execution": {
     "iopub.execute_input": "2022-12-30T23:05:57.921692Z",
     "iopub.status.busy": "2022-12-30T23:05:57.921429Z",
     "iopub.status.idle": "2022-12-30T23:05:57.925910Z",
     "shell.execute_reply": "2022-12-30T23:05:57.924855Z",
     "shell.execute_reply.started": "2022-12-30T23:05:57.921670Z"
    },
    "id": "a1G14ZILR01l"
   },
   "outputs": [],
   "source": [
    "# put layers into eval mode (needed for batchnorm especially)\n",
    "for layer in model.layers:\n",
    "  layer.training = False"
   ]
  },
  {
   "cell_type": "code",
   "execution_count": 31,
   "metadata": {
    "execution": {
     "iopub.execute_input": "2022-12-30T23:05:57.927049Z",
     "iopub.status.busy": "2022-12-30T23:05:57.926816Z",
     "iopub.status.idle": "2022-12-30T23:05:59.007250Z",
     "shell.execute_reply": "2022-12-30T23:05:59.006552Z",
     "shell.execute_reply.started": "2022-12-30T23:05:57.927021Z"
    },
    "id": "gL6Wx3MIR5Bu"
   },
   "outputs": [
    {
     "name": "stdout",
     "output_type": "stream",
     "text": [
      "train 1.7776132822036743\n",
      "val 1.9844735860824585\n"
     ]
    }
   ],
   "source": [
    "# evaluate the loss\n",
    "@torch.no_grad() # this decorator disables gradient tracking inside pytorch\n",
    "def split_loss(split):\n",
    "  x,y = {\n",
    "    'train': (Xtr, Ytr),\n",
    "    'val': (Xdev, Ydev),\n",
    "    'test': (Xte, Yte),\n",
    "  }[split]\n",
    "  logits = model(x)\n",
    "  loss = F.cross_entropy(logits, y)\n",
    "  print(split, loss.item())\n",
    "\n",
    "split_loss('train')\n",
    "split_loss('val')"
   ]
  },
  {
   "cell_type": "code",
   "execution_count": 32,
   "metadata": {
    "execution": {
     "iopub.execute_input": "2022-12-30T23:05:59.008687Z",
     "iopub.status.busy": "2022-12-30T23:05:59.008436Z",
     "iopub.status.idle": "2022-12-30T23:05:59.024442Z",
     "shell.execute_reply": "2022-12-30T23:05:59.023736Z",
     "shell.execute_reply.started": "2022-12-30T23:05:59.008664Z"
    },
    "id": "RcdJPI84TNqk"
   },
   "outputs": [
    {
     "name": "stdout",
     "output_type": "stream",
     "text": [
      "78843\n"
     ]
    }
   ],
   "source": [
    "n_embd = 32 # the dimensionality of the character embedding vectors\n",
    "n_hidden = 128 # the number of neurons in the hidden layer of the MLP\n",
    "model = Sequential([\n",
    "  Embedding(vocab_size, n_embd),\n",
    "  FlattenConsecutive(2), Linear(n_embd * 2, n_hidden, bias=False), BatchNorm1d(n_hidden), RELU(),\n",
    "  FlattenConsecutive(2), Linear(n_hidden*2, n_hidden, bias=False), BatchNorm1d(n_hidden), RELU(),\n",
    "  FlattenConsecutive(2), Linear(n_hidden*2, n_hidden, bias=False), BatchNorm1d(n_hidden), RELU(),\n",
    "  Linear(n_hidden, vocab_size)\n",
    "])\n",
    "\n",
    "# parameter init\n",
    "with torch.no_grad():\n",
    "  model.layers[-1].weight *= 0.1 # last layer make less confident\n",
    "\n",
    "parameters = model.parameters()\n",
    "print(sum(p.nelement() for p in parameters)) # number of parameters in total\n",
    "for p in parameters:\n",
    "  p.requires_grad = True"
   ]
  },
  {
   "cell_type": "code",
   "execution_count": 33,
   "metadata": {
    "execution": {
     "iopub.execute_input": "2022-12-30T23:05:59.025604Z",
     "iopub.status.busy": "2022-12-30T23:05:59.025365Z",
     "iopub.status.idle": "2022-12-30T23:22:31.513057Z",
     "shell.execute_reply": "2022-12-30T23:22:31.512083Z",
     "shell.execute_reply.started": "2022-12-30T23:05:59.025583Z"
    },
    "id": "YMepZdtuTR0C"
   },
   "outputs": [
    {
     "name": "stdout",
     "output_type": "stream",
     "text": [
      "      0/ 200000: 3.2834\n",
      "  10000/ 200000: 2.2988\n",
      "  20000/ 200000: 1.8084\n",
      "  30000/ 200000: 1.7960\n",
      "  40000/ 200000: 2.1833\n",
      "  50000/ 200000: 2.1297\n",
      "  60000/ 200000: 2.0779\n",
      "  70000/ 200000: 2.0850\n",
      "  80000/ 200000: 2.4283\n",
      "  90000/ 200000: 1.7632\n",
      " 100000/ 200000: 2.0402\n",
      " 110000/ 200000: 1.7669\n",
      " 120000/ 200000: 1.9651\n",
      " 130000/ 200000: 1.7799\n",
      " 140000/ 200000: 1.4676\n",
      " 150000/ 200000: 1.9236\n",
      " 160000/ 200000: 1.7056\n",
      " 170000/ 200000: 1.5541\n",
      " 180000/ 200000: 1.6134\n",
      " 190000/ 200000: 1.6804\n"
     ]
    }
   ],
   "source": [
    "# same optimization as last time\n",
    "max_steps = 200000\n",
    "batch_size = 32\n",
    "lossi = []\n",
    "\n",
    "for i in range(max_steps):\n",
    "  \n",
    "  # minibatch construct\n",
    "  ix = torch.randint(0, Xtr.shape[0], (batch_size,))\n",
    "  Xb, Yb = Xtr[ix], Ytr[ix] # batch X,Y\n",
    "  \n",
    "  # forward pass\n",
    "  logits = model(Xb)\n",
    "  loss = F.cross_entropy(logits, Yb) # loss function\n",
    "  \n",
    "  # backward pass\n",
    "  for p in parameters:\n",
    "    p.grad = None\n",
    "  loss.backward()\n",
    "  \n",
    "  # update: simple SGD\n",
    "  lr = 0.1 if i < 150000 else 0.01 # step learning rate decay\n",
    "  for p in parameters:\n",
    "    p.data += -lr * p.grad\n",
    "\n",
    "  # track stats\n",
    "  if i % 10000 == 0: # print every once in a while\n",
    "    print(f'{i:7d}/{max_steps:7d}: {loss.item():.4f}')\n",
    "  lossi.append(loss.log10().item())"
   ]
  },
  {
   "cell_type": "code",
   "execution_count": 34,
   "metadata": {
    "execution": {
     "iopub.execute_input": "2022-12-30T23:22:31.514585Z",
     "iopub.status.busy": "2022-12-30T23:22:31.514307Z",
     "iopub.status.idle": "2022-12-30T23:22:31.637057Z",
     "shell.execute_reply": "2022-12-30T23:22:31.635809Z",
     "shell.execute_reply.started": "2022-12-30T23:22:31.514561Z"
    },
    "id": "g4l2_d3tTcKL"
   },
   "outputs": [
    {
     "data": {
      "text/plain": [
       "[<matplotlib.lines.Line2D at 0x7fd0ce0f0c10>]"
      ]
     },
     "execution_count": 34,
     "metadata": {},
     "output_type": "execute_result"
    },
    {
     "data": {
      "image/png": "[encoded data removed]",
      "text/plain": [
       "<Figure size 432x288 with 1 Axes>"
      ]
     },
     "metadata": {
      "needs_background": "light"
     },
     "output_type": "display_data"
    }
   ],
   "source": [
    "plt.plot(torch.tensor(lossi).view(-1, 1000).mean(1))"
   ]
  },
  {
   "cell_type": "code",
   "execution_count": 35,
   "metadata": {
    "execution": {
     "iopub.execute_input": "2022-12-30T23:22:31.638910Z",
     "iopub.status.busy": "2022-12-30T23:22:31.638607Z",
     "iopub.status.idle": "2022-12-30T23:22:31.643407Z",
     "shell.execute_reply": "2022-12-30T23:22:31.642488Z",
     "shell.execute_reply.started": "2022-12-30T23:22:31.638876Z"
    },
    "id": "Cruff-ymTdoP"
   },
   "outputs": [],
   "source": [
    "# put layers into eval mode (needed for batchnorm especially)\n",
    "for layer in model.layers:\n",
    "  layer.training = False"
   ]
  },
  {
   "cell_type": "code",
   "execution_count": 36,
   "metadata": {
    "execution": {
     "iopub.execute_input": "2022-12-30T23:22:31.645219Z",
     "iopub.status.busy": "2022-12-30T23:22:31.644547Z",
     "iopub.status.idle": "2022-12-30T23:22:32.676618Z",
     "shell.execute_reply": "2022-12-30T23:22:32.675847Z",
     "shell.execute_reply.started": "2022-12-30T23:22:31.645190Z"
    },
    "id": "jPOJRBFyTe39"
   },
   "outputs": [
    {
     "name": "stdout",
     "output_type": "stream",
     "text": [
      "train 1.7519404888153076\n",
      "val 1.9936151504516602\n"
     ]
    }
   ],
   "source": [
    "# evaluate the loss\n",
    "@torch.no_grad() # this decorator disables gradient tracking inside pytorch\n",
    "def split_loss(split):\n",
    "  x,y = {\n",
    "    'train': (Xtr, Ytr),\n",
    "    'val': (Xdev, Ydev),\n",
    "    'test': (Xte, Yte),\n",
    "  }[split]\n",
    "  logits = model(x)\n",
    "  loss = F.cross_entropy(logits, y)\n",
    "  print(split, loss.item())\n",
    "\n",
    "split_loss('train')\n",
    "split_loss('val')"
   ]
  },
  {
   "cell_type": "markdown",
   "metadata": {
    "id": "yQdB3cZYbHw0"
   },
   "source": [
    "### performance log\n",
    "\n",
    "- original (3 character context + 200 hidden neurons, 12K params): train 2.058, val 2.105\n",
    "- context: 3 -> 8 (22K params): train 1.918, val 2.027\n",
    "- flat -> hierarchical (22K params): train 1.941, val 2.029\n",
    "- fix bug in batchnorm: train 1.912, val 2.022\n",
    "- scale up the network: n_embd 24, n_hidden 128 (76K params): train 1.769, val 1.993\n"
   ]
  },
  {
   "cell_type": "code",
   "execution_count": 37,
   "metadata": {
    "execution": {
     "iopub.execute_input": "2022-12-30T23:22:32.678027Z",
     "iopub.status.busy": "2022-12-30T23:22:32.677804Z",
     "iopub.status.idle": "2022-12-30T23:22:32.793882Z",
     "shell.execute_reply": "2022-12-30T23:22:32.793131Z",
     "shell.execute_reply.started": "2022-12-30T23:22:32.678006Z"
    },
    "id": "CSE5ZEgebHw0"
   },
   "outputs": [
    {
     "name": "stdout",
     "output_type": "stream",
     "text": [
      "allan.\n",
      "danori.\n",
      "jackson.\n",
      "ocheber.\n",
      "damonte.\n",
      "louardo.\n",
      "virgen.\n",
      "zachariel.\n",
      "cassey.\n",
      "sucher.\n",
      "miaro.\n",
      "delvin.\n",
      "rynleigh.\n",
      "jayani.\n",
      "brexton.\n",
      "adeena.\n",
      "godge.\n",
      "andre.\n",
      "turant.\n",
      "gabbielynn.\n"
     ]
    }
   ],
   "source": [
    "# sample from the model\n",
    "for _ in range(20):\n",
    "    \n",
    "    out = []\n",
    "    context = [0] * block_size # initialize with all ...\n",
    "    while True:\n",
    "      # forward pass the neural net\n",
    "      logits = model(torch.tensor([context]))\n",
    "      probs = F.softmax(logits, dim=1)\n",
    "      # sample from the distribution\n",
    "      ix = torch.multinomial(probs, num_samples=1).item()\n",
    "      # shift the context window and track the samples\n",
    "      context = context[1:] + [ix]\n",
    "      out.append(ix)\n",
    "      # if we sample the special '.' token, break\n",
    "      if ix == 0:\n",
    "        break\n",
    "    \n",
    "    print(''.join(itos[i] for i in out)) # decode and print the generated word"
   ]
  },
  {
   "cell_type": "markdown",
   "metadata": {
    "id": "5w054JOpbHw1"
   },
   "source": [
    "### Next time:\n",
    "Why convolutions? Brief preview/hint"
   ]
  },
  {
   "cell_type": "code",
   "execution_count": 38,
   "metadata": {
    "execution": {
     "iopub.execute_input": "2022-12-30T23:22:32.795327Z",
     "iopub.status.busy": "2022-12-30T23:22:32.795037Z",
     "iopub.status.idle": "2022-12-30T23:22:32.803768Z",
     "shell.execute_reply": "2022-12-30T23:22:32.802731Z",
     "shell.execute_reply.started": "2022-12-30T23:22:32.795289Z"
    },
    "id": "Qff2A3xcVjcX"
   },
   "outputs": [
    {
     "data": {
      "text/plain": [
       "tensor([[ 0,  0,  0,  0,  0,  0,  0,  0],\n",
       "        [ 0,  0,  0,  0,  0,  0,  0, 25],\n",
       "        [ 0,  0,  0,  0,  0,  0, 25, 21],\n",
       "        [ 0,  0,  0,  0,  0, 25, 21,  8],\n",
       "        [ 0,  0,  0,  0, 25, 21,  8,  5],\n",
       "        [ 0,  0,  0, 25, 21,  8,  5, 14],\n",
       "        [ 0,  0, 25, 21,  8,  5, 14,  7],\n",
       "        [ 0,  0,  0,  0,  0,  0,  0,  0],\n",
       "        [ 0,  0,  0,  0,  0,  0,  0,  4],\n",
       "        [ 0,  0,  0,  0,  0,  0,  4,  9],\n",
       "        [ 0,  0,  0,  0,  0,  4,  9, 15],\n",
       "        [ 0,  0,  0,  0,  4,  9, 15, 14],\n",
       "        [ 0,  0,  0,  4,  9, 15, 14,  4],\n",
       "        [ 0,  0,  4,  9, 15, 14,  4, 18],\n",
       "        [ 0,  4,  9, 15, 14,  4, 18,  5]])"
      ]
     },
     "execution_count": 38,
     "metadata": {},
     "output_type": "execute_result"
    }
   ],
   "source": [
    "Xtr[0:15]"
   ]
  },
  {
   "cell_type": "code",
   "execution_count": 39,
   "metadata": {
    "execution": {
     "iopub.execute_input": "2022-12-30T23:22:32.805604Z",
     "iopub.status.busy": "2022-12-30T23:22:32.805281Z",
     "iopub.status.idle": "2022-12-30T23:22:32.812090Z",
     "shell.execute_reply": "2022-12-30T23:22:32.811247Z",
     "shell.execute_reply.started": "2022-12-30T23:22:32.805572Z"
    },
    "id": "zBP4pbSnbHw1"
   },
   "outputs": [
    {
     "name": "stdout",
     "output_type": "stream",
     "text": [
      "........ --> d\n",
      ".......d --> i\n",
      "......di --> o\n",
      ".....dio --> n\n",
      "....dion --> d\n",
      "...diond --> r\n",
      "..diondr --> e\n",
      ".diondre --> .\n"
     ]
    }
   ],
   "source": [
    "for x,y in zip(Xtr[7:15], Ytr[7:15]):\n",
    "  print(''.join(itos[ix.item()] for ix in x), '-->', itos[y.item()])"
   ]
  },
  {
   "cell_type": "code",
   "execution_count": 40,
   "metadata": {
    "execution": {
     "iopub.execute_input": "2022-12-30T23:22:32.813334Z",
     "iopub.status.busy": "2022-12-30T23:22:32.813121Z",
     "iopub.status.idle": "2022-12-30T23:22:32.820251Z",
     "shell.execute_reply": "2022-12-30T23:22:32.819610Z",
     "shell.execute_reply.started": "2022-12-30T23:22:32.813315Z"
    },
    "id": "HhUwWXX8bHw2"
   },
   "outputs": [
    {
     "data": {
      "text/plain": [
       "torch.Size([1, 27])"
      ]
     },
     "execution_count": 40,
     "metadata": {},
     "output_type": "execute_result"
    }
   ],
   "source": [
    "# forward a single example:\n",
    "logits = model(Xtr[[7]])\n",
    "logits.shape"
   ]
  },
  {
   "cell_type": "code",
   "execution_count": 41,
   "metadata": {
    "colab": {
     "base_uri": "https://localhost:8080/"
    },
    "execution": {
     "iopub.execute_input": "2022-12-30T23:22:32.821514Z",
     "iopub.status.busy": "2022-12-30T23:22:32.821302Z",
     "iopub.status.idle": "2022-12-30T23:22:32.832897Z",
     "shell.execute_reply": "2022-12-30T23:22:32.832223Z",
     "shell.execute_reply.started": "2022-12-30T23:22:32.821501Z"
    },
    "id": "gBDyYGUWbHw2",
    "outputId": "f1745d07-2ab1-4569-980c-5a26a456f45a"
   },
   "outputs": [
    {
     "data": {
      "text/plain": [
       "torch.Size([8, 27])"
      ]
     },
     "execution_count": 41,
     "metadata": {},
     "output_type": "execute_result"
    }
   ],
   "source": [
    "# forward all of them\n",
    "logits = torch.zeros(8, 27)\n",
    "for i in range(8):\n",
    "  logits[i] = model(Xtr[[7+i]])\n",
    "logits.shape"
   ]
  },
  {
   "attachments": {},
   "cell_type": "markdown",
   "metadata": {
    "id": "bxPAkE-X_ez5"
   },
   "source": [
    "It looks like the RELU is overfitted."
   ]
  }
 ],
 "metadata": {
  "accelerator": "GPU",
  "colab": {
   "provenance": []
  },
  "gpuClass": "standard",
  "kernelspec": {
   "display_name": "Python 3 (ipykernel)",
   "language": "python",
   "name": "python3"
  },
  "language_info": {
   "codemirror_mode": {
    "name": "ipython",
    "version": 3
   },
   "file_extension": ".py",
   "mimetype": "text/x-python",
   "name": "python",
   "nbconvert_exporter": "python",
   "pygments_lexer": "ipython3",
   "version": "3.9.13"
  }
 },
 "nbformat": 4,
 "nbformat_minor": 4
}
